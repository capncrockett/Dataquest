{
 "cells": [
  {
   "cell_type": "markdown",
   "id": "9e681c0a-0fec-484e-8101-145473f2f20c",
   "metadata": {},
   "source": [
    "\n",
    "# Exploring Hacker News Posts\n",
    "\n",
    "This project will be exploring various aspects of user posts, responses, points, times, etc.`"
   ]
  },
  {
   "cell_type": "code",
   "execution_count": 1,
   "id": "98e2e262-6bb8-4d34-8a24-d2aa2014a46f",
   "metadata": {},
   "outputs": [
    {
     "name": "stdout",
     "output_type": "stream",
     "text": [
      "['id', 'title', 'url', 'num_points', 'num_comments', 'author', 'created_at']\n",
      "['12224879', 'Interactive Dynamic Video', 'http://www.interactivedynamicvideo.com/', '386', '52', 'ne0phyte', '8/4/2016 11:52']\n",
      "['10975351', 'How to Use Open Source and Shut the Fuck Up at the Same Time', 'http://hueniverse.com/2016/01/26/how-to-use-open-source-and-shut-the-fuck-up-at-the-same-time/', '39', '10', 'josep2', '1/26/2016 19:30']\n",
      "['11964716', \"Florida DJs May Face Felony for April Fools' Water Joke\", 'http://www.thewire.com/entertainment/2013/04/florida-djs-april-fools-water-joke/63798/', '2', '1', 'vezycash', '6/23/2016 22:20']\n",
      "['11919867', 'Technology ventures: From Idea to Enterprise', 'https://www.amazon.com/Technology-Ventures-Enterprise-Thomas-Byers/dp/0073523429', '3', '1', 'hswarna', '6/17/2016 0:01']\n",
      "['10301696', 'Note by Note: The Making of Steinway L1037 (2007)', 'http://www.nytimes.com/2007/11/07/movies/07stein.html?_r=0', '8', '2', 'walterbell', '9/30/2015 4:12']\n"
     ]
    }
   ],
   "source": [
    "from csv import reader\n",
    "import datetime as dt\n",
    "\n",
    "\n",
    "def print_dict(your_dict: dict, key: str, value: str, sort=False):\n",
    "    \"\"\"Just prints your dict\"\"\"\n",
    "    if sort:\n",
    "        for k, v in sorted(your_dict.items()):\n",
    "            print(f\"{key} {k}: {value} {v}\")\n",
    "    elif not sort:\n",
    "        for k, v in your_dict.items():\n",
    "            print(f\"{key} {k}: {value} {v}\")\n",
    "\n",
    "\n",
    "# Hacker News (hn) dataset\n",
    "opened_file = open(\"hacker_news.csv\")\n",
    "read_file = reader(opened_file)\n",
    "read_file_list = list(read_file)\n",
    "hn_headers = read_file_list[0]\n",
    "hn = read_file_list[1:]\n",
    "\n",
    "print(hn_headers)\n",
    "for row in hn[:5]:\n",
    "    print(row)"
   ]
  },
  {
   "cell_type": "markdown",
   "id": "b715b65e-54ef-4ec0-9f61-5e634134644e",
   "metadata": {},
   "source": [
    "We're looking for posts containing `Ask HN` or `Show HN`. Let's filter them to two separate lists accounting for capitalization discrepencies."
   ]
  },
  {
   "cell_type": "code",
   "execution_count": 2,
   "id": "19e0fbb4-0192-4330-8451-6258d20ff230",
   "metadata": {},
   "outputs": [
    {
     "name": "stdout",
     "output_type": "stream",
     "text": [
      "1744\n",
      "1162\n",
      "17194\n"
     ]
    }
   ],
   "source": [
    "ask_posts, show_posts, other_posts = [], [], []\n",
    "\n",
    "for row in hn:\n",
    "    title = row[1]\n",
    "    if title.lower().startswith(\"ask hn\"):\n",
    "        ask_posts.append(row)\n",
    "    elif title.lower().startswith(\"show hn\"):\n",
    "        show_posts.append(row)\n",
    "    else:\n",
    "        other_posts.append(row)\n",
    "\n",
    "        \n",
    "print(len(ask_posts))\n",
    "print(len(show_posts))\n",
    "print(len(other_posts))"
   ]
  },
  {
   "cell_type": "code",
   "execution_count": 3,
   "id": "ce9be04d-3bd2-44c4-a1b4-bd6cf07d3529",
   "metadata": {},
   "outputs": [
    {
     "name": "stdout",
     "output_type": "stream",
     "text": [
      "['12296411', 'Ask HN: How to improve my personal website?', '', '2', '6', 'ahmedbaracat', '8/16/2016 9:55']\n",
      "['10610020', 'Ask HN: Am I the only one outraged by Twitter shutting down share counts?', '', '28', '29', 'tkfx', '11/22/2015 13:43']\n",
      "['11610310', 'Ask HN: Aby recent changes to CSS that broke mobile?', '', '1', '1', 'polskibus', '5/2/2016 10:14']\n",
      "['12210105', 'Ask HN: Looking for Employee #3 How do I do it?', '', '1', '3', 'sph130', '8/2/2016 14:20']\n",
      "['10394168', 'Ask HN: Someone offered to buy my browser extension from me. What now?', '', '28', '17', 'roykolak', '10/15/2015 16:38']\n",
      "\n",
      "['12296411', 'Ask HN: How to improve my personal website?', '', '2', '6', 'ahmedbaracat', '8/16/2016 9:55']\n",
      "['10610020', 'Ask HN: Am I the only one outraged by Twitter shutting down share counts?', '', '28', '29', 'tkfx', '11/22/2015 13:43']\n",
      "['11610310', 'Ask HN: Aby recent changes to CSS that broke mobile?', '', '1', '1', 'polskibus', '5/2/2016 10:14']\n",
      "['12210105', 'Ask HN: Looking for Employee #3 How do I do it?', '', '1', '3', 'sph130', '8/2/2016 14:20']\n",
      "['10394168', 'Ask HN: Someone offered to buy my browser extension from me. What now?', '', '28', '17', 'roykolak', '10/15/2015 16:38']\n"
     ]
    }
   ],
   "source": [
    "for row in ask_posts[:5]:\n",
    "    print(row)\n",
    "    \n",
    "print()\n",
    "\n",
    "for row in ask_posts[:5]:\n",
    "    print(row)"
   ]
  },
  {
   "cell_type": "markdown",
   "id": "184676a8-f95a-4f96-aa61-b9e1435f14fe",
   "metadata": {},
   "source": [
    "Next, let's determine if `ask posts` or `show posts` receive more comments on average."
   ]
  },
  {
   "cell_type": "code",
   "execution_count": 4,
   "id": "409f4e07-abec-4c66-b721-8055622dd4f0",
   "metadata": {},
   "outputs": [
    {
     "name": "stdout",
     "output_type": "stream",
     "text": [
      "24483\n",
      "1744\n",
      "14.038417431192661\n",
      "\n",
      "11988\n",
      "1162\n",
      "10.31669535283993\n"
     ]
    }
   ],
   "source": [
    "total_ask_comments = 0\n",
    "for row in ask_posts:\n",
    "    num_comments = int(row[4])\n",
    "    total_ask_comments += num_comments\n",
    "    \n",
    "print(total_ask_comments)\n",
    "print(len(ask_posts))\n",
    "avg_ask_comments = total_ask_comments / len(ask_posts)\n",
    "print(avg_ask_comments)\n",
    "\n",
    "print()\n",
    "\n",
    "total_show_comments = 0\n",
    "for row in show_posts:\n",
    "    num_comments = int(row[4])\n",
    "    total_show_comments += num_comments\n",
    "    \n",
    "print(total_show_comments)\n",
    "print(len(show_posts))\n",
    "avg_show_comments = total_show_comments / len(show_posts)\n",
    "print(avg_show_comments)\n",
    " "
   ]
  },
  {
   "cell_type": "markdown",
   "id": "d02eabf9-ac22-49f6-a30b-4bb09374d68a",
   "metadata": {},
   "source": [
    "Looks like `Ask HN` posts recieve far more comments on average. This might be due to the nature of the post just being a question and it receiving answers."
   ]
  },
  {
   "cell_type": "code",
   "execution_count": 9,
   "id": "be7e77b8-4e0e-42ee-916a-12d5f59f7f7c",
   "metadata": {},
   "outputs": [
    {
     "name": "stdout",
     "output_type": "stream",
     "text": [
      "Hour 0: Posts 55\n",
      "Hour 1: Posts 60\n",
      "Hour 2: Posts 58\n",
      "Hour 3: Posts 54\n",
      "Hour 4: Posts 47\n",
      "Hour 5: Posts 46\n",
      "Hour 6: Posts 44\n",
      "Hour 7: Posts 34\n",
      "Hour 8: Posts 48\n",
      "Hour 9: Posts 45\n",
      "Hour 10: Posts 59\n",
      "Hour 11: Posts 58\n",
      "Hour 12: Posts 73\n",
      "Hour 13: Posts 85\n",
      "Hour 14: Posts 107\n",
      "Hour 15: Posts 116\n",
      "Hour 16: Posts 108\n",
      "Hour 17: Posts 100\n",
      "Hour 18: Posts 109\n",
      "Hour 19: Posts 110\n",
      "Hour 20: Posts 80\n",
      "Hour 21: Posts 109\n",
      "Hour 22: Posts 71\n",
      "Hour 23: Posts 68\n",
      "Hour 0: Comments 447\n",
      "Hour 1: Comments 683\n",
      "Hour 2: Comments 1381\n",
      "Hour 3: Comments 421\n",
      "Hour 4: Comments 337\n",
      "Hour 5: Comments 464\n",
      "Hour 6: Comments 397\n",
      "Hour 7: Comments 267\n",
      "Hour 8: Comments 492\n",
      "Hour 9: Comments 251\n",
      "Hour 10: Comments 793\n",
      "Hour 11: Comments 641\n",
      "Hour 12: Comments 687\n",
      "Hour 13: Comments 1253\n",
      "Hour 14: Comments 1416\n",
      "Hour 15: Comments 4477\n",
      "Hour 16: Comments 1814\n",
      "Hour 17: Comments 1146\n",
      "Hour 18: Comments 1439\n",
      "Hour 19: Comments 1188\n",
      "Hour 20: Comments 1722\n",
      "Hour 21: Comments 1745\n",
      "Hour 22: Comments 479\n",
      "Hour 23: Comments 543\n"
     ]
    }
   ],
   "source": [
    "results_list = []\n",
    "for row in ask_posts:\n",
    "    created_at = row[6]\n",
    "    num_comments = int(row[4])\n",
    "    results_list.append([created_at, num_comments])\n",
    "    \n",
    "posts_by_hour = {}\n",
    "comments_by_hour = {}\n",
    "\n",
    "for row in results_list:\n",
    "#     print(row)\n",
    "    comments_dt = dt.datetime.strptime(row[0], \"%m/%d/%Y %H:%M\")\n",
    "    comment_count = row[1]\n",
    "#     print(comments_dt)\n",
    "    time = comments_dt.time()\n",
    "    post_hour = time.hour\n",
    "#     print(post_hour)\n",
    "    if post_hour not in posts_by_hour:\n",
    "        posts_by_hour[post_hour] = 1\n",
    "        comments_by_hour[post_hour] = comment_count\n",
    "    elif post_hour in posts_by_hour:\n",
    "        posts_by_hour[post_hour] += 1\n",
    "        comments_by_hour[post_hour] += comment_count\n",
    "\n",
    "print_dict(posts_by_hour, \"Hour\", \"Posts\", sort=True)\n",
    "print_dict(comments_by_hour, \"Hour\", \"Comments\", sort=True)"
   ]
  },
  {
   "cell_type": "code",
   "execution_count": 6,
   "id": "5a1f3a53-a18b-4307-a9cd-74ceae18b202",
   "metadata": {},
   "outputs": [
    {
     "name": "stdout",
     "output_type": "stream",
     "text": [
      "[9, 5.5777777777777775]\n",
      "[13, 14.741176470588234]\n",
      "[10, 13.440677966101696]\n",
      "[14, 13.233644859813085]\n",
      "[16, 16.796296296296298]\n",
      "[23, 7.985294117647059]\n",
      "[12, 9.41095890410959]\n",
      "[17, 11.46]\n",
      "[15, 38.5948275862069]\n",
      "[21, 16.009174311926607]\n",
      "[20, 21.525]\n",
      "[2, 23.810344827586206]\n",
      "[18, 13.20183486238532]\n",
      "[3, 7.796296296296297]\n",
      "[5, 10.08695652173913]\n",
      "[19, 10.8]\n",
      "[1, 11.383333333333333]\n",
      "[22, 6.746478873239437]\n",
      "[8, 10.25]\n",
      "[4, 7.170212765957447]\n",
      "[0, 8.127272727272727]\n",
      "[6, 9.022727272727273]\n",
      "[7, 7.852941176470588]\n",
      "[11, 11.051724137931034]\n"
     ]
    }
   ],
   "source": [
    "avg_by_hour = []\n",
    "\n",
    "for com_hour, com_count in comments_by_hour.items():\n",
    "    for post_hour, post_count in posts_by_hour.items():\n",
    "        if post_hour == com_hour:\n",
    "            avg_com_per_hour = com_count / post_count\n",
    "            avg_by_hour.append([post_hour, avg_com_per_hour])\n",
    "                        \n",
    "for row in (avg_by_hour):\n",
    "    print(row)"
   ]
  },
  {
   "cell_type": "code",
   "execution_count": 7,
   "id": "c560d47c-bf59-406d-9921-b110a244e9c7",
   "metadata": {},
   "outputs": [
    {
     "name": "stdout",
     "output_type": "stream",
     "text": [
      "Top 5 Hours for Ask Posts Comments\n",
      "15:00: 38.6 average comments per post\n",
      "02:00: 23.8 average comments per post\n",
      "20:00: 21.5 average comments per post\n",
      "16:00: 16.8 average comments per post\n",
      "21:00: 16.0 average comments per post\n"
     ]
    }
   ],
   "source": [
    "swap_avg_by_hour = []\n",
    "for row in avg_by_hour:\n",
    "    swap_avg_by_hour.append([row[1], row[0]])\n",
    "    \n",
    "sorted_swap = sorted(swap_avg_by_hour, reverse=True)\n",
    "\n",
    "print(\"Top 5 Hours for Ask Posts Comments\")\n",
    "\n",
    "for row in sorted_swap[:5]:\n",
    "    hour = dt.datetime.strptime(str(row[1]), \"%H\")\n",
    "    hour = dt.datetime.strftime(hour, \"%H:%M\")\n",
    "    print(f\"{hour}: {row[0]:.1f} average comments per post\")"
   ]
  },
  {
   "cell_type": "code",
   "execution_count": 8,
   "id": "104b7eb0-edb4-4258-9593-2f4b72f9797b",
   "metadata": {},
   "outputs": [
    {
     "name": "stdout",
     "output_type": "stream",
     "text": [
      "03:00 PM EST - 38.6 average comments per post\n",
      "02:00 AM EST - 23.8 average comments per post\n",
      "08:00 PM EST - 21.5 average comments per post\n",
      "04:00 PM EST - 16.8 average comments per post\n",
      "09:00 PM EST - 16.0 average comments per post\n"
     ]
    }
   ],
   "source": [
    "for row in sorted_swap[:5]:\n",
    "    hour = dt.datetime.strptime(str(row[1]), \"%H\")\n",
    "    hour = dt.datetime.strftime(hour, \"%I:%M %p\")\n",
    "    print(f\"{hour} EST - {row[0]:.1f} average comments per post\")"
   ]
  }
 ],
 "metadata": {
  "kernelspec": {
   "display_name": "Python 3 (ipykernel)",
   "language": "python",
   "name": "python3"
  },
  "language_info": {
   "codemirror_mode": {
    "name": "ipython",
    "version": 3
   },
   "file_extension": ".py",
   "mimetype": "text/x-python",
   "name": "python",
   "nbconvert_exporter": "python",
   "pygments_lexer": "ipython3",
   "version": "3.9.5"
  }
 },
 "nbformat": 4,
 "nbformat_minor": 5
}
