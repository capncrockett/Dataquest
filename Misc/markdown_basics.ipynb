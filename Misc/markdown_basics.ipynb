{
 "cells": [
  {
   "cell_type": "markdown",
   "id": "c7117c97-f859-4b8f-bf65-e6933ce6e1b5",
   "metadata": {},
   "source": [
    "# iOS Apps Dataset Info\n",
    "1. Open `.csv`.\n",
    "2. Import the `reader` function from `csv` libary.\n",
    "3. Assing variable `read_file` to incoming `.csv`.\n",
    "4. Assign variable `apps_data` to `read_file`, convert to a `list`.\n",
    "5. Iterate over `apps_data` (leaving off the header).\n",
    "6. `print` rows for each iteration."
   ]
  },
  {
   "cell_type": "markdown",
   "id": "98dd925c-9e07-4d9e-a73c-6e90e8bc843f",
   "metadata": {},
   "source": [
    "## What is this?\n",
    "* This dataset contains statistics and information about iOS apps hosted in the app store.\n",
    "* It comes from Apple's website via the DataQuest course. It is outdated but still usable for learning.\n",
    "* Here is where the `.csv` is hosted. [Kaggle.com](https://www.kaggle.com/ramamet4/app-store-apple-data-set-10k-apps)"
   ]
  },
  {
   "cell_type": "markdown",
   "id": "1aa0b119-28ae-47de-8d53-08474fd30bd3",
   "metadata": {},
   "source": [
    "| Colum name | Description |\n",
    "| :--- | :--- |\n",
    "| \"id\" | App ID |\n",
    "| \"track_name\" | App Name |\n",
    "| \"size_bytes\" | Size (in Bytes) |\n",
    "| ..... | ..... |"
   ]
  },
  {
   "cell_type": "code",
   "execution_count": 2,
   "id": "3b88d381-f131-4138-a140-665e2f9b1b8d",
   "metadata": {},
   "outputs": [
    {
     "name": "stdout",
     "output_type": "stream",
     "text": [
      "['281656475', 'PAC-MAN Premium', '100788224', 'USD']\n",
      "['281796108', 'Evernote - stay organized', '158578688', 'USD']\n",
      "['281940292', 'WeatherBug - Local Weather, Radar, Maps, Alerts', '100524032', 'USD']\n",
      "['282614216', 'eBay: Best App to Buy, Sell, Save! Online Shopping', '128512000', 'USD']\n"
     ]
    }
   ],
   "source": [
    "opened_file = open('AppleStore.csv')\n",
    "from csv import reader\n",
    "read_file = reader(opened_file)\n",
    "apps_data = list(read_file)\n",
    "    \n",
    "for row in apps_data[1:5]:\n",
    "    print(row[1:5])"
   ]
  }
 ],
 "metadata": {
  "kernelspec": {
   "display_name": "Python 3",
   "language": "python",
   "name": "python3"
  },
  "language_info": {
   "codemirror_mode": {
    "name": "ipython",
    "version": 3
   },
   "file_extension": ".py",
   "mimetype": "text/x-python",
   "name": "python",
   "nbconvert_exporter": "python",
   "pygments_lexer": "ipython3",
   "version": "3.8.8"
  }
 },
 "nbformat": 4,
 "nbformat_minor": 5
}
