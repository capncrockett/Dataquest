{
 "cells": [
  {
   "cell_type": "markdown",
   "id": "3c74a058-8a0c-42dc-9125-c6abc1ea31a5",
   "metadata": {},
   "source": [
    "\n",
    "# iOS and Android App Research\n",
    "\n",
    "* I am putting together datasets to better understand statistics for app development. We'll be looking at data collected from the Google Play and the App Store. \n",
    "\n",
    "For this project, we'll pretend we're working as data analysts for a company that builds Android and iOS mobile apps.  \n",
    "We make our apps available on Google Play and in the App Store.  \n",
    "\n",
    "\n",
    "We only build apps that are free to download and install, and our main source of revenue consists of in-app ads.  \n",
    "This means that the number of users of our apps determines our revenue for any given app — the more users who see and engage with the ads, the better.  \n",
    "Our goal for this project is to analyze data to help our developers understand what type of apps are likely to attract more users."
   ]
  },
  {
   "cell_type": "code",
   "execution_count": 1,
   "id": "d551d175-e8ad-4689-a6cb-21421b627641",
   "metadata": {},
   "outputs": [],
   "source": [
    "from csv import reader\n",
    "\n",
    "# App Store data set\n",
    "opened_file_ios = open('AppleStore.csv')\n",
    "read_ios = reader(opened_file_ios)\n",
    "ios_all_data = list(read_ios)\n",
    "ios_header = ios_all_data[0]\n",
    "ios = ios_all_data[1:]\n",
    "\n",
    "# Google Play data set\n",
    "opened_file_android = open('googleplaystore.csv')\n",
    "read_droid = reader(opened_file_android)\n",
    "droid_all_data = list(read_droid)\n",
    "droid_header = droid_all_data[0]\n",
    "droid = droid_all_data[1:]"
   ]
  },
  {
   "cell_type": "code",
   "execution_count": 2,
   "id": "36efd34a-28de-40c8-af53-d2b85f8045eb",
   "metadata": {},
   "outputs": [],
   "source": [
    "def explore_data(dataset, start, end, rows_and_columns=False):\n",
    "    dataset_slice = dataset[start:end]\n",
    "    \n",
    "    if rows_and_columns:\n",
    "        print(f'Number of rows: {len(dataset)}')\n",
    "        print(f'Number of columns:{len(dataset[0])}\\n')\n",
    "        \n",
    "    for row in dataset_slice:\n",
    "        print(row)\n",
    "        print('\\n')  # adds a new blank line after each row."
   ]
  },
  {
   "cell_type": "markdown",
   "id": "98bd1569-9d60-4519-a011-8deaf6ff5c6a",
   "metadata": {},
   "source": [
    "\n",
    "#### In order to find free, user driven apps, funded by ad revenue I believe relevant columns will be:\n",
    "\n",
    "* name\n",
    "* price\n",
    "* user ratings \n",
    "* prime genre\n",
    "* category\n",
    "* reviews\n",
    "* genre"
   ]
  },
  {
   "cell_type": "code",
   "execution_count": 3,
   "id": "6621a78d-6ac7-456d-b3e4-c544fa427c9a",
   "metadata": {},
   "outputs": [
    {
     "name": "stdout",
     "output_type": "stream",
     "text": [
      "iOS Header...\n",
      "['id', 'track_name', 'size_bytes', 'currency', 'price', 'rating_count_tot', 'rating_count_ver', 'user_rating', 'user_rating_ver', 'ver', 'cont_rating', 'prime_genre', 'sup_devices.num', 'ipadSc_urls.num', 'lang.num', 'vpp_lic'] \n",
      "\n",
      "iOS Data...\n",
      "Number of rows: 7197\n",
      "Number of columns:16\n",
      "\n",
      "['389801252', 'Instagram', '113954816', 'USD', '0.0', '2161558', '1289', '4.5', '4.0', '10.23', '12+', 'Photo & Video', '37', '0', '29', '1']\n",
      "\n",
      "\n",
      "['529479190', 'Clash of Clans', '116476928', 'USD', '0.0', '2130805', '579', '4.5', '4.5', '9.24.12', '9+', 'Games', '38', '5', '18', '1']\n",
      "\n",
      "\n",
      "Android Header...\n",
      "['App', 'Category', 'Rating', 'Reviews', 'Size', 'Installs', 'Type', 'Price', 'Content Rating', 'Genres', 'Last Updated', 'Current Ver', 'Android Ver'] \n",
      "\n",
      "Android Data...\n",
      "Number of rows: 10841\n",
      "Number of columns:13\n",
      "\n",
      "['Coloring book moana', 'ART_AND_DESIGN', '3.9', '967', '14M', '500,000+', 'Free', '0', 'Everyone', 'Art & Design;Pretend Play', 'January 15, 2018', '2.0.0', '4.0.3 and up']\n",
      "\n",
      "\n",
      "['U Launcher Lite – FREE Live Cool Themes, Hide Apps', 'ART_AND_DESIGN', '4.7', '87510', '8.7M', '5,000,000+', 'Free', '0', 'Everyone', 'Art & Design', 'August 1, 2018', '1.2.4', '4.0.3 and up']\n",
      "\n",
      "\n"
     ]
    }
   ],
   "source": [
    "print('iOS Header...')\n",
    "print(ios_header, '\\n')\n",
    "print('iOS Data...')\n",
    "explore_data(ios, 1, 3, True)\n",
    "\n",
    "print('Android Header...')\n",
    "print(droid_header, '\\n')\n",
    "print('Android Data...')\n",
    "explore_data(droid, 1, 3, True)"
   ]
  },
  {
   "cell_type": "markdown",
   "id": "410129ca-090f-4949-81e7-0be631cdfc3f",
   "metadata": {},
   "source": [
    "\n",
    "### Make sure the length of all `droid` rows are even with the length of the `header` column.\n"
   ]
  },
  {
   "cell_type": "code",
   "execution_count": 4,
   "id": "918f555d-af35-4844-9b4c-a2b6b49d1b23",
   "metadata": {},
   "outputs": [
    {
     "name": "stdout",
     "output_type": "stream",
     "text": [
      "['Life Made WI-Fi Touchscreen Photo Frame', '1.9', '19', '3.0M', '1,000+', 'Free', '0', 'Everyone', '', 'February 11, 2018', '1.0.19', '4.0 and up']\n",
      "\n",
      "\n",
      "Index position is 10472\n"
     ]
    }
   ],
   "source": [
    "for row in droid:\n",
    "    if len(row) != len(droid_header):\n",
    "        print(row)\n",
    "        print('\\n')\n",
    "        print(f\"Index position is {droid.index(row)}\")"
   ]
  },
  {
   "cell_type": "markdown",
   "id": "eacc3e50-2650-4bc8-954a-1ae9ce2458fd",
   "metadata": {},
   "source": [
    "\n",
    "#### Print the `row` in an easy to read fashion.\n"
   ]
  },
  {
   "cell_type": "code",
   "execution_count": 5,
   "id": "da9e4f2d-413b-4210-8518-7efa1a0328fc",
   "metadata": {},
   "outputs": [
    {
     "name": "stdout",
     "output_type": "stream",
     "text": [
      "App: Life Made WI-Fi Touchscreen Photo Frame\n",
      "Category: 1.9\n",
      "Rating: 19\n",
      "Reviews: 3.0M\n",
      "Size: 1,000+\n",
      "Installs: Free\n",
      "Type: 0\n",
      "Price: Everyone\n",
      "Content Rating: \n",
      "Genres: February 11, 2018\n",
      "Last Updated: 1.0.19\n",
      "Current Ver: 4.0 and up\n"
     ]
    }
   ],
   "source": [
    "problem_row = droid[10472]\n",
    "for item_head, item_row in zip(droid_header, problem_row):\n",
    "    print(f\"{item_head}: {item_row}\")"
   ]
  },
  {
   "cell_type": "markdown",
   "id": "ea16d11f-eccb-4878-9a21-e541253fd042",
   "metadata": {},
   "source": [
    "**Looks like this app has a rating of 19 which is not possible.  \n",
    "After reading the discussion board it seems to be missing an entry for the `Category` column.  \n",
    "We'll Just delete the whole entry (`row`) for now.**"
   ]
  },
  {
   "cell_type": "code",
   "execution_count": 6,
   "id": "8ad4372e-6a3a-4741-9a1f-6d096c58b59f",
   "metadata": {},
   "outputs": [],
   "source": [
    "del droid[10472]"
   ]
  },
  {
   "cell_type": "code",
   "execution_count": 7,
   "id": "2b1c7f8a-d23b-4f01-879c-9c4e9dcce09b",
   "metadata": {},
   "outputs": [
    {
     "name": "stdout",
     "output_type": "stream",
     "text": [
      "App: osmino Wi-Fi: free WiFi\n",
      "Category: TOOLS\n",
      "Rating: 4.2\n",
      "Reviews: 134203\n",
      "Size: 4.1M\n",
      "Installs: 10,000,000+\n",
      "Type: Free\n",
      "Price: 0\n",
      "Content Rating: Everyone\n",
      "Genres: Tools\n",
      "Last Updated: August 7, 2018\n",
      "Current Ver: 6.06.14\n",
      "Android Ver: 4.4 and up\n"
     ]
    }
   ],
   "source": [
    "# Print the `row` in an easy to read fashion.\n",
    "problem_row = droid[10472]\n",
    "for item_head, item_row in zip(droid_header, problem_row):\n",
    "    print(f\"{item_head}: {item_row}\")"
   ]
  },
  {
   "cell_type": "markdown",
   "id": "b759d1ff-664f-432c-8aef-fe95dbd7bcd9",
   "metadata": {},
   "source": [
    "\n",
    "### Make sure the length of all `ios` rows are even with the length of the `header` column."
   ]
  },
  {
   "cell_type": "code",
   "execution_count": 8,
   "id": "9cdd46d4-13b0-4bc2-9fa7-e0107520263c",
   "metadata": {},
   "outputs": [],
   "source": [
    "for row in ios:\n",
    "    if len(row) != len(ios_header):\n",
    "        print(row)\n",
    "        print('\\n')\n",
    "        print(f\"Index position is {ios.index(row)}\")"
   ]
  },
  {
   "cell_type": "markdown",
   "id": "6fa138a4-1a44-4501-9e04-5bac3031f6e2",
   "metadata": {},
   "source": [
    "**Looks like we're good.**"
   ]
  },
  {
   "cell_type": "markdown",
   "id": "c21c1697-e6e3-489a-8047-ea6745f56c19",
   "metadata": {},
   "source": [
    "\n",
    "#### Reminder:\n",
    "\n",
    "**Recall that at our company, we only build apps that are free to download and install, and we design them for an English-speaking audience.  \n",
    "This means that we'll need to do the following:**\n",
    "\n",
    "* Remove non-English apps like 爱奇艺PPS -《欢乐颂2》电视剧热播.\n",
    "* Remove apps that aren't free."
   ]
  },
  {
   "cell_type": "markdown",
   "id": "1106c14c-dde3-49e9-a91d-62eb7298aaba",
   "metadata": {},
   "source": [
    "## Investigate Duplicate Apps.\n",
    "\n",
    "### Google Play Duplicate Data Check."
   ]
  },
  {
   "cell_type": "code",
   "execution_count": 9,
   "id": "4afbcc65-43e1-4607-a7c2-cb1cc4246315",
   "metadata": {},
   "outputs": [
    {
     "name": "stdout",
     "output_type": "stream",
     "text": [
      "Number of duplicate apps: 1181\n",
      "\n",
      "Number of unique apps: 9659\n",
      "\n",
      "Examples of duplicate apps: ['Quick PDF Scanner + OCR FREE', 'Box', 'Google My Business', 'ZOOM Cloud Meetings', 'join.me - Simple Meetings', 'Box', 'Zenefits', 'Google Ads', 'Google My Business', 'Slack', 'FreshBooks Classic', 'Insightly CRM', 'QuickBooks Accounting: Invoicing & Expenses', 'HipChat - Chat Built for Teams', 'Xero Accounting Software']\n"
     ]
    }
   ],
   "source": [
    "duplicate_apps = []\n",
    "unique_apps = []\n",
    "\n",
    "for app in droid:\n",
    "    name = app[0]\n",
    "    if name in unique_apps:\n",
    "        duplicate_apps.append(name)\n",
    "    else:\n",
    "        unique_apps.append(name)\n",
    "\n",
    "print(f'Number of duplicate apps: {len(duplicate_apps)}\\n')\n",
    "print(f'Number of unique apps: {len(unique_apps)}\\n')\n",
    "print(f'Examples of duplicate apps: {duplicate_apps[:15]}')"
   ]
  },
  {
   "cell_type": "markdown",
   "id": "11901040-8c0f-41c9-beb4-7a2be78b33c2",
   "metadata": {},
   "source": [
    "\n",
    "##### That's 1181 duplicate apps. Let's see if we can find some discrepencies between the entries.\n"
   ]
  },
  {
   "cell_type": "code",
   "execution_count": 10,
   "id": "25920544-b1cf-4703-a70e-1f8c528d021d",
   "metadata": {},
   "outputs": [
    {
     "name": "stdout",
     "output_type": "stream",
     "text": [
      "['Instagram', 'SOCIAL', '4.5', '66577313', 'Varies with device', '1,000,000,000+', 'Free', '0', 'Teen', 'Social', 'July 31, 2018', 'Varies with device', 'Varies with device']\n",
      "['Instagram', 'SOCIAL', '4.5', '66577446', 'Varies with device', '1,000,000,000+', 'Free', '0', 'Teen', 'Social', 'July 31, 2018', 'Varies with device', 'Varies with device']\n",
      "['Instagram', 'SOCIAL', '4.5', '66577313', 'Varies with device', '1,000,000,000+', 'Free', '0', 'Teen', 'Social', 'July 31, 2018', 'Varies with device', 'Varies with device']\n",
      "['Instagram', 'SOCIAL', '4.5', '66509917', 'Varies with device', '1,000,000,000+', 'Free', '0', 'Teen', 'Social', 'July 31, 2018', 'Varies with device', 'Varies with device']\n"
     ]
    }
   ],
   "source": [
    "for app in droid:\n",
    "    name = app[0]\n",
    "    if name == 'Instagram':\n",
    "        print(app)"
   ]
  },
  {
   "cell_type": "markdown",
   "id": "83c753db-d562-4a78-a432-bf7036295a44",
   "metadata": {},
   "source": [
    "\n",
    "#### Use Rating Totals to ID duplicates.\n",
    "`Instagram` has multiple entries with varying `Rating` totals.  \n",
    "It's safe to assume the higher the `Rating` total the more recent the data.  \n",
    "Instead of removing duplicates randomly we'll use the `Rating` total column to remove duplicates.\n",
    "\n",
    "#### Create an empty dictionary, add app name and number of reviews as the value."
   ]
  },
  {
   "cell_type": "code",
   "execution_count": 11,
   "id": "cc3ab633-0d62-4271-8ef2-212111591711",
   "metadata": {},
   "outputs": [
    {
     "name": "stdout",
     "output_type": "stream",
     "text": [
      "Non-duplicate length 9659\n",
      "Expected length: 9659\n"
     ]
    }
   ],
   "source": [
    "reviews_max = {}\n",
    "\n",
    "for app in droid:\n",
    "    name = app[0]\n",
    "    n_reviews = float(app[3])\n",
    "    if name in reviews_max and reviews_max[name] < n_reviews:\n",
    "        reviews_max[name] = n_reviews\n",
    "    if name not in reviews_max:\n",
    "        reviews_max[name] = n_reviews\n",
    "        \n",
    "print(f'Non-duplicate length {len(reviews_max)}')\n",
    "print(f'Expected length: {len(droid) - 1181}')"
   ]
  },
  {
   "cell_type": "markdown",
   "id": "8c1d223a-2ef4-41bc-b165-f905a61cf067",
   "metadata": {},
   "source": [
    "* Create two lists. One for cleaned data and one for the names of apps that were already added to our cleaned list.  \n",
    "* The lengths of both should be equal."
   ]
  },
  {
   "cell_type": "code",
   "execution_count": 12,
   "id": "604e3c93-de17-40d2-b9c3-1417f9106b86",
   "metadata": {},
   "outputs": [
    {
     "name": "stdout",
     "output_type": "stream",
     "text": [
      "Length of clean Google Play: 9659\n",
      "Length of already added: 9659\n"
     ]
    }
   ],
   "source": [
    "droid_clean = []\n",
    "already_added = []\n",
    "\n",
    "for app in droid:\n",
    "    name = app[0]\n",
    "    n_reviews = float(app[3])\n",
    "    if n_reviews == reviews_max[name] and name not in already_added:\n",
    "        droid_clean.append(app)\n",
    "        already_added.append(name)\n",
    "\n",
    "print(f'Length of clean Google Play: {len(droid_clean)}')\n",
    "print(f'Length of already added: {len(already_added)}')\n"
   ]
  },
  {
   "cell_type": "markdown",
   "id": "79bb65b5-36ce-4b13-b5f0-9a38e773c3cf",
   "metadata": {},
   "source": [
    "\n",
    "### iOS Duplicate App Check\n"
   ]
  },
  {
   "cell_type": "code",
   "execution_count": 13,
   "id": "ac2aed49-c8af-437c-805e-70a105f539d7",
   "metadata": {},
   "outputs": [
    {
     "name": "stdout",
     "output_type": "stream",
     "text": [
      "Number of duplicate apps: 0\n",
      "\n",
      "Number of unique apps: 7197\n",
      "\n",
      "Examples of duplicate apps: []\n"
     ]
    }
   ],
   "source": [
    "duplicate_apps = []\n",
    "unique_apps = []\n",
    "\n",
    "for app in ios:\n",
    "    app_id = app[0]\n",
    "    if app_id in unique_apps:\n",
    "        duplicate_apps.append(app_id)\n",
    "    else:\n",
    "        unique_apps.append(app_id)\n",
    "\n",
    "print(f'Number of duplicate apps: {len(duplicate_apps)}\\n')\n",
    "print(f'Number of unique apps: {len(unique_apps)}\\n')\n",
    "print(f'Examples of duplicate apps: {duplicate_apps[:15]}')"
   ]
  },
  {
   "cell_type": "markdown",
   "id": "253a9d9f-c567-46b1-bedc-207b414300b3",
   "metadata": {},
   "source": [
    "#### Well that's good news, the App Store doesn't have any duplicates. That unique ID column that really helps keep data clean :)"
   ]
  },
  {
   "cell_type": "markdown",
   "id": "ded0cf45-67b0-4f1c-bb08-f01dc740ce07",
   "metadata": {},
   "source": [
    "\n",
    "## Check For, and Remove, non-English apps.\n",
    "\n",
    "Below are a few examples.\n"
   ]
  },
  {
   "cell_type": "code",
   "execution_count": 14,
   "id": "414cb7b3-0f91-431a-ad95-8f4aa1a6062a",
   "metadata": {},
   "outputs": [
    {
     "name": "stdout",
     "output_type": "stream",
     "text": [
      "爱奇艺PPS -《欢乐颂2》电视剧热播\n",
      "【脱出ゲーム】絶対に最後までプレイしないで 〜謎解き＆ブロックパズル〜\n",
      "\n",
      "\n",
      "中国語 AQリスニング\n",
      "لعبة تقدر تربح DZ\n"
     ]
    }
   ],
   "source": [
    "print(ios[813][1])\n",
    "print(ios[6731][1])\n",
    "print('\\n')\n",
    "print(droid_clean[4412][0])\n",
    "print(droid_clean[7940][0])"
   ]
  },
  {
   "cell_type": "markdown",
   "id": "230f9d19-9aaa-4a6d-8520-0acf0aaf6530",
   "metadata": {},
   "source": [
    "We can iterate through the string and identify which characters are not part of the english text characters.  \n",
    "Let's define a function to check characters in a string for non-English characters."
   ]
  },
  {
   "cell_type": "code",
   "execution_count": 15,
   "id": "c7730213-c72a-4154-88e9-f904930fe664",
   "metadata": {},
   "outputs": [
    {
     "name": "stdout",
     "output_type": "stream",
     "text": [
      "False\n",
      "False\n",
      "\n",
      "\n",
      "False\n",
      "False\n",
      "\n",
      "\n",
      "False\n",
      "False\n"
     ]
    }
   ],
   "source": [
    "def english_checker(a_string):\n",
    "    for char in a_string:\n",
    "        if ord(char) > 127:\n",
    "            return False\n",
    "        \n",
    "    return True\n",
    "        \n",
    "print(english_checker(ios[813][1]))\n",
    "print(english_checker(ios[6731][1]))\n",
    "print('\\n')\n",
    "print(english_checker(droid_clean[4412][0]))\n",
    "print(english_checker(droid_clean[7940][0]))\n",
    "print('\\n')\n",
    "print(english_checker('Docs To Go™ Free Office Suite'))\n",
    "print(english_checker('Instachat 😜'))"
   ]
  },
  {
   "cell_type": "markdown",
   "id": "bafc7ded-48cb-4de0-a8d3-eb88960ea125",
   "metadata": {},
   "source": [
    "Wait a second, the trademark symbol and emoji should count. Those apps are cleary geared toward English speakers.  \n",
    "We need to modify that function a bit to account for a few non-ASCII characters like emojis and what not."
   ]
  },
  {
   "cell_type": "code",
   "execution_count": 16,
   "id": "becf8ee3-4f3f-4bce-b5a2-9b91fce6ce2e",
   "metadata": {},
   "outputs": [
    {
     "name": "stdout",
     "output_type": "stream",
     "text": [
      "False\n",
      "False\n",
      "\n",
      "\n",
      "False\n",
      "False\n",
      "\n",
      "\n",
      "True\n",
      "True\n"
     ]
    }
   ],
   "source": [
    "def english_checker(a_string):\n",
    "    non_ascii = 0\n",
    "    for char in a_string:\n",
    "        if ord(char) > 127:\n",
    "            non_ascii += 1\n",
    "            \n",
    "    if non_ascii > 3:\n",
    "        return False\n",
    "    else:    \n",
    "        return True\n",
    "        \n",
    "print(english_checker(ios[813][1]))\n",
    "print(english_checker(ios[6731][1]))\n",
    "print('\\n')\n",
    "print(english_checker(droid_clean[4412][0]))\n",
    "print(english_checker(droid_clean[7940][0]))\n",
    "print('\\n')\n",
    "print(english_checker('Docs To Go™ Free Office Suite'))\n",
    "print(english_checker('Instachat 😜'))"
   ]
  },
  {
   "cell_type": "markdown",
   "id": "ef69f4cc-b6b0-4489-92f5-797b5ff121ae",
   "metadata": {},
   "source": [
    "This seems to work pretty well. It's not perfect but it should clean out most of the non-English apps.  \n",
    "Let's go ahead and store these cleaned up, English apps in a new list.  \n",
    "Don't forget to use `droid_clean` as we have already spent time cleaning up a bit of the Google Play data."
   ]
  },
  {
   "cell_type": "code",
   "execution_count": 27,
   "id": "af5cb2ac-8f15-48b3-bcfe-9f47dc186606",
   "metadata": {},
   "outputs": [
    {
     "name": "stdout",
     "output_type": "stream",
     "text": [
      "Length of English: 6183\n",
      "Length of non-English: 1014\n",
      "Total length: 7197\n",
      "\n",
      "Length of English: 9614\n",
      "Length of non-English: 45\n",
      "Total length: 9659\n"
     ]
    }
   ],
   "source": [
    "ios_english = []\n",
    "ios_non_english = []\n",
    "\n",
    "for app in ios:\n",
    "    name = app[1]\n",
    "    if english_checker(name):\n",
    "        ios_english.append(app)\n",
    "    else:\n",
    "        ios_non_english.append(app)\n",
    "\n",
    "print(f'Length of English: {len(ios_english)}')\n",
    "print(f'Length of non-English: {len(ios_non_english)}')\n",
    "print(f'Total length: {len(ios_english) + len(ios_non_english)}\\n') \n",
    "\n",
    "\n",
    "droid_english = []\n",
    "droid_non_english = []\n",
    "\n",
    "for app in droid_clean:\n",
    "    name = app[0]\n",
    "    if english_checker(name):\n",
    "        droid_english.append(app)\n",
    "    else:\n",
    "        droid_non_english.append(app)\n",
    "         \n",
    "            \n",
    "print(f'Length of English: {len(droid_english)}')\n",
    "print(f'Length of non-English: {len(droid_non_english)}')\n",
    "print(f'Total length: {len(droid_english) + len(droid_non_english)}') \n",
    "\n",
    "# explore_data(droid_english, 0, 3, True)\n",
    "# for name in droid_english[:25]:\n",
    "#     print(name[0])"
   ]
  },
  {
   "cell_type": "markdown",
   "id": "447cad7e-9ffe-4398-a70b-e82221d023e1",
   "metadata": {},
   "source": [
    "\n",
    "## Clean Out non-Free Apps\n",
    "\n",
    "Loop through datasets, identify and remove any non-free apps.  \n",
    "Prices come up as `strings` so be sure they're not in the conditional statements."
   ]
  },
  {
   "cell_type": "code",
   "execution_count": 28,
   "id": "25b30ed0-6f78-4b5c-b0ae-cefc0f5f00b7",
   "metadata": {},
   "outputs": [
    {
     "name": "stdout",
     "output_type": "stream",
     "text": [
      "Free iOS apps: 3222\n",
      "Paid iOS apps: 2961\n",
      "\n",
      "Free Android apps: 8864\n",
      "Paid Android apps: 750\n",
      "\n",
      "\n"
     ]
    }
   ],
   "source": [
    "ios_free = []\n",
    "ios_paid = []\n",
    "\n",
    "for app in ios_english:\n",
    "    price = float(app[4])\n",
    "    if price == 0.0:\n",
    "        ios_free.append(app)\n",
    "    else:\n",
    "        ios_paid.append(app)\n",
    "        \n",
    "print(f'Free iOS apps: {len(ios_free)}')\n",
    "print(f'Paid iOS apps: {len(ios_paid)}')\n",
    "print()\n",
    "\n",
    "\n",
    "droid_free = []\n",
    "droid_paid = []\n",
    "\n",
    "for app in droid_english:\n",
    "    price = app[7]\n",
    "    if price == '0':\n",
    "        droid_free.append(app)\n",
    "    else:\n",
    "        droid_paid.append(app)\n",
    "\n",
    "print(f'Free Android apps: {len(droid_free)}')\n",
    "print(f'Paid Android apps: {len(droid_paid)}')\n",
    "print('\\n')\n",
    "\n",
    "# explore_data(ios_free, 0, 3, True)\n",
    "# print('\\n')\n",
    "# explore_data(droid_free, 0, 3, True)"
   ]
  },
  {
   "cell_type": "markdown",
   "id": "d7fea79e-91cd-4fc0-9e9e-d816b7bb2de8",
   "metadata": {},
   "source": [
    "\n",
    "## App Profile Strategy\n",
    "\n",
    "In order to minimize our risk and costs to market we'll use three steps:\n",
    "1. Build a minimal version of an Android app.\n",
    "2. If the app has a good response we can develop it further.\n",
    "3. If it is profitable afte 6 months develop an iOS version for the App Store.\n",
    "\n",
    "For our app dev purposes we want to find something that is popular on both the App Store and Google Play. We'll look at genre occurence frequency to identify which genres are the most popular.  \n",
    "Let's make a genre frequency table to start."
   ]
  },
  {
   "cell_type": "code",
   "execution_count": 37,
   "id": "00be3864-34be-4bfc-9bd7-bfee46b3ac6b",
   "metadata": {},
   "outputs": [
    {
     "name": "stdout",
     "output_type": "stream",
     "text": [
      "Games: 1874\n",
      "Entertainment: 254\n",
      "Photo & Video: 160\n",
      "Education: 118\n",
      "Social Networking: 106\n",
      "Shopping: 84\n",
      "Utilities: 81\n",
      "Sports: 69\n",
      "Music: 66\n",
      "Health & Fitness: 65\n",
      "Productivity: 56\n",
      "Lifestyle: 51\n",
      "News: 43\n",
      "Travel: 40\n",
      "Finance: 36\n",
      "Weather: 28\n",
      "Food & Drink: 26\n",
      "Reference: 18\n",
      "Business: 17\n",
      "Book: 14\n",
      "Navigation: 6\n",
      "Medical: 6\n",
      "Catalogs: 4\n"
     ]
    }
   ],
   "source": [
    "genre_frequency_ios = {}\n",
    "\n",
    "for app in ios_free:\n",
    "    genre = app[11]\n",
    "    if genre in genre_frequency_ios:\n",
    "        genre_frequency_ios[genre] += 1\n",
    "    else:\n",
    "        genre_frequency_ios[genre] = 1\n",
    "\n",
    "genre_sorted = sorted(genre_frequency_ios.items(), key=lambda x: x[1], reverse=True)\n",
    "\n",
    "for i in genre_sorted:\n",
    "    print(f'{i[0]}: {i[1]}')"
   ]
  },
  {
   "cell_type": "markdown",
   "id": "52e68674-d9a0-409f-8c50-7ddf161eb730",
   "metadata": {},
   "source": [
    "It looks like Games dominates. Not much of a surprise there. Entertainment could also be an evenue worth exploring.  \n",
    "Let's check the Google Play info. There is a column for `category` as well as `genre`. Let's run them separately and see if how much similarity there is."
   ]
  },
  {
   "cell_type": "code",
   "execution_count": 35,
   "id": "0072aaf3-f479-4260-a90d-81c89b542960",
   "metadata": {},
   "outputs": [
    {
     "name": "stdout",
     "output_type": "stream",
     "text": [
      "FAMILY: 1676\n",
      "GAME: 862\n",
      "TOOLS: 750\n",
      "BUSINESS: 407\n",
      "LIFESTYLE: 346\n",
      "PRODUCTIVITY: 345\n",
      "FINANCE: 328\n",
      "MEDICAL: 313\n",
      "SPORTS: 301\n",
      "PERSONALIZATION: 294\n",
      "\n",
      "\n",
      "Tools: 749\n",
      "Entertainment: 538\n",
      "Education: 474\n",
      "Business: 407\n",
      "Lifestyle: 345\n",
      "Productivity: 345\n",
      "Finance: 328\n",
      "Medical: 313\n",
      "Sports: 307\n",
      "Personalization: 294\n"
     ]
    }
   ],
   "source": [
    "category_frequency_droid = {}\n",
    "genre_frequency_droid = {}\n",
    "\n",
    "for app in droid_free:\n",
    "    category = app[1]\n",
    "    if category in category_frequency_droid:\n",
    "        category_frequency_droid[category] += 1\n",
    "    else:\n",
    "        category_frequency_droid[category] = 1\n",
    "        \n",
    "for app in droid_free:\n",
    "    genre = app[9]\n",
    "    if genre in genre_frequency_droid:\n",
    "        genre_frequency_droid[genre] += 1\n",
    "    else:\n",
    "        genre_frequency_droid[genre] = 1\n",
    "        \n",
    "sort_cat_freq_droid = sorted(category_frequency_droid.items(), key=lambda x: x[1], reverse=True)\n",
    "sort_genre_freq_droid = sorted(genre_frequency_droid.items(), key=lambda x: x[1], reverse=True)\n",
    "\n",
    "for i in sort_cat_freq_droid[:10]:\n",
    "    print(f'{i[0]}: {i[1]}')\n",
    "print('\\n')\n",
    "for i in sort_genre_freq_droid[:10]:\n",
    "    print(f'{i[0]}: {i[1]}')   "
   ]
  },
  {
   "cell_type": "code",
   "execution_count": 38,
   "id": "4323723d-123b-49c0-8978-769022d0e56c",
   "metadata": {},
   "outputs": [
    {
     "name": "stdout",
     "output_type": "stream",
     "text": [
      "<class 'list'>\n"
     ]
    }
   ],
   "source": []
  }
 ],
 "metadata": {
  "kernelspec": {
   "display_name": "Python 3 (ipykernel)",
   "language": "python",
   "name": "python3"
  },
  "language_info": {
   "codemirror_mode": {
    "name": "ipython",
    "version": 3
   },
   "file_extension": ".py",
   "mimetype": "text/x-python",
   "name": "python",
   "nbconvert_exporter": "python",
   "pygments_lexer": "ipython3",
   "version": "3.9.5"
  }
 },
 "nbformat": 4,
 "nbformat_minor": 5
}
