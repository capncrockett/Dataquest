{
 "cells": [
  {
   "cell_type": "markdown",
   "id": "3c74a058-8a0c-42dc-9125-c6abc1ea31a5",
   "metadata": {},
   "source": [
    "# iOS and Android App Research\n",
    "* I am putting together datasets to better understand statistics for app development. We'll be looking at data collected from the Google Play and the App Store. \n",
    "\n",
    "For this project, we'll pretend we're working as data analysts for a company that builds Android and iOS mobile apps. We make our apps available on Google Play and in the App Store.\n",
    "\n",
    "We only build apps that are free to download and install, and our main source of revenue consists of in-app ads. This means that the number of users of our apps determines our revenue for any given app — the more users who see and engage with the ads, the better. Our goal for this project is to analyze data to help our developers understand what type of apps are likely to attract more users."
   ]
  },
  {
   "cell_type": "code",
   "execution_count": 1,
   "id": "36efd34a-28de-40c8-af53-d2b85f8045eb",
   "metadata": {},
   "outputs": [],
   "source": [
    "def explore_data(dataset, start, end, rows_and_columns=False):\n",
    "    dataset_slice = dataset[start:end]\n",
    "    \n",
    "    if rows_and_columns:\n",
    "        print(f'Number of rows: {len(dataset)}')\n",
    "        print(f'Number of columns:{len(dataset[0])}\\n')\n",
    "        \n",
    "    for row in dataset_slice:\n",
    "        print(row)\n",
    "        print('\\n')  # adds a new blank line after each row."
   ]
  },
  {
   "cell_type": "code",
   "execution_count": 2,
   "id": "239aad50-450d-44f7-809d-9147d0aebb07",
   "metadata": {},
   "outputs": [],
   "source": [
    "opened_file_ios = open('AppleStore.csv')\n",
    "opened_file_android = open('googleplaystore.csv')\n",
    "from csv import reader\n",
    "read_ios = reader(opened_file_ios)\n",
    "read_droid = reader(opened_file_android)\n",
    "ios_all_data = list(read_ios)\n",
    "droid_all_data = list(read_droid)"
   ]
  },
  {
   "cell_type": "markdown",
   "id": "98bd1569-9d60-4519-a011-8deaf6ff5c6a",
   "metadata": {},
   "source": [
    "In order to find free, user driven apps, funded by ad revenue I believe relevant columns will be:\n",
    "* name\n",
    "* price\n",
    "* user ratings \n",
    "* prime genre\n",
    "* category\n",
    "* reviews\n",
    "* genre"
   ]
  },
  {
   "cell_type": "code",
   "execution_count": 3,
   "id": "6621a78d-6ac7-456d-b3e4-c544fa427c9a",
   "metadata": {},
   "outputs": [
    {
     "name": "stdout",
     "output_type": "stream",
     "text": [
      "iOS Header...\n",
      "['id', 'track_name', 'size_bytes', 'currency', 'price', 'rating_count_tot', 'rating_count_ver', 'user_rating', 'user_rating_ver', 'ver', 'cont_rating', 'prime_genre', 'sup_devices.num', 'ipadSc_urls.num', 'lang.num', 'vpp_lic']\n",
      "\n",
      "\n",
      "iOS Data...\n",
      "Number of rows: 7198\n",
      "Number of columns:16\n",
      "\n",
      "['284882215', 'Facebook', '389879808', 'USD', '0.0', '2974676', '212', '3.5', '3.5', '95.0', '4+', 'Social Networking', '37', '1', '29', '1']\n",
      "\n",
      "\n",
      "['389801252', 'Instagram', '113954816', 'USD', '0.0', '2161558', '1289', '4.5', '4.0', '10.23', '12+', 'Photo & Video', '37', '0', '29', '1']\n",
      "\n",
      "\n",
      "Android Header...\n",
      "['App', 'Category', 'Rating', 'Reviews', 'Size', 'Installs', 'Type', 'Price', 'Content Rating', 'Genres', 'Last Updated', 'Current Ver', 'Android Ver']\n",
      "\n",
      "\n",
      "Android Data...\n",
      "Number of rows: 10842\n",
      "Number of columns:13\n",
      "\n",
      "['Photo Editor & Candy Camera & Grid & ScrapBook', 'ART_AND_DESIGN', '4.1', '159', '19M', '10,000+', 'Free', '0', 'Everyone', 'Art & Design', 'January 7, 2018', '1.0.0', '4.0.3 and up']\n",
      "\n",
      "\n",
      "['Coloring book moana', 'ART_AND_DESIGN', '3.9', '967', '14M', '500,000+', 'Free', '0', 'Everyone', 'Art & Design;Pretend Play', 'January 15, 2018', '2.0.0', '4.0.3 and up']\n",
      "\n",
      "\n"
     ]
    }
   ],
   "source": [
    "print('iOS Header...')\n",
    "explore_data(ios_all_data, 0, 1)\n",
    "print('iOS Data...')\n",
    "explore_data(ios_all_data, 1, 3, True)\n",
    "\n",
    "print('Android Header...')\n",
    "explore_data(droid_all_data, 0, 1)\n",
    "print('Android Data...')\n",
    "explore_data(droid_all_data, 1, 3, True)"
   ]
  },
  {
   "cell_type": "code",
   "execution_count": 4,
   "id": "46c4a832-ef42-4174-ade3-9492e49ca5d0",
   "metadata": {},
   "outputs": [
    {
     "name": "stdout",
     "output_type": "stream",
     "text": [
      "[['284882215', 'Facebook', '389879808', 'USD', '0.0', '2974676', '212', '3.5', '3.5', '95.0', '4+', 'Social Networking', '37', '1', '29', '1'], ['389801252', 'Instagram', '113954816', 'USD', '0.0', '2161558', '1289', '4.5', '4.0', '10.23', '12+', 'Photo & Video', '37', '0', '29', '1'], ['529479190', 'Clash of Clans', '116476928', 'USD', '0.0', '2130805', '579', '4.5', '4.5', '9.24.12', '9+', 'Games', '38', '5', '18', '1']]\n",
      "\n",
      "[['Photo Editor & Candy Camera & Grid & ScrapBook', 'ART_AND_DESIGN', '4.1', '159', '19M', '10,000+', 'Free', '0', 'Everyone', 'Art & Design', 'January 7, 2018', '1.0.0', '4.0.3 and up'], ['Coloring book moana', 'ART_AND_DESIGN', '3.9', '967', '14M', '500,000+', 'Free', '0', 'Everyone', 'Art & Design;Pretend Play', 'January 15, 2018', '2.0.0', '4.0.3 and up'], ['U Launcher Lite – FREE Live Cool Themes, Hide Apps', 'ART_AND_DESIGN', '4.7', '87510', '8.7M', '5,000,000+', 'Free', '0', 'Everyone', 'Art & Design', 'August 1, 2018', '1.2.4', '4.0.3 and up']]\n"
     ]
    }
   ],
   "source": [
    "def extract_data(dataset: list, start: int, end: int, rows_and_columns=False, header=False):\n",
    "    dataset_slice = []\n",
    "    if header:\n",
    "        start += 1\n",
    "        header = dataset[0]\n",
    "    for row in dataset[start:end]:\n",
    "        dataset_slice.append(row)\n",
    "        \n",
    "    return dataset_slice\n",
    "\n",
    "ios = extract_data(ios_all_data, 0, -1, header=True)\n",
    "print(ios[:3])\n",
    "print()\n",
    "droid = extract_data(droid_all_data, 0, -1, header=True)\n",
    "print(droid[:3])"
   ]
  },
  {
   "cell_type": "code",
   "execution_count": 5,
   "id": "918f555d-af35-4844-9b4c-a2b6b49d1b23",
   "metadata": {},
   "outputs": [
    {
     "ename": "NameError",
     "evalue": "name 'droid_header' is not defined",
     "output_type": "error",
     "traceback": [
      "\u001b[0;31m---------------------------------------------------------------------------\u001b[0m",
      "\u001b[0;31mNameError\u001b[0m                                 Traceback (most recent call last)",
      "\u001b[0;32m/tmp/ipykernel_976/1489181667.py\u001b[0m in \u001b[0;36m<module>\u001b[0;34m\u001b[0m\n\u001b[1;32m      1\u001b[0m \u001b[0;32mfor\u001b[0m \u001b[0mrow\u001b[0m \u001b[0;32min\u001b[0m \u001b[0mdroid\u001b[0m\u001b[0;34m:\u001b[0m\u001b[0;34m\u001b[0m\u001b[0;34m\u001b[0m\u001b[0m\n\u001b[0;32m----> 2\u001b[0;31m     \u001b[0;32mif\u001b[0m \u001b[0mlen\u001b[0m\u001b[0;34m(\u001b[0m\u001b[0mrow\u001b[0m\u001b[0;34m)\u001b[0m \u001b[0;34m!=\u001b[0m \u001b[0mlen\u001b[0m\u001b[0;34m(\u001b[0m\u001b[0mdroid_header\u001b[0m\u001b[0;34m)\u001b[0m\u001b[0;34m:\u001b[0m\u001b[0;34m\u001b[0m\u001b[0;34m\u001b[0m\u001b[0m\n\u001b[0m\u001b[1;32m      3\u001b[0m         \u001b[0mprint\u001b[0m\u001b[0;34m(\u001b[0m\u001b[0mrow\u001b[0m\u001b[0;34m)\u001b[0m\u001b[0;34m\u001b[0m\u001b[0;34m\u001b[0m\u001b[0m\n\u001b[1;32m      4\u001b[0m         \u001b[0mprint\u001b[0m\u001b[0;34m(\u001b[0m\u001b[0;34m'\\n'\u001b[0m\u001b[0;34m)\u001b[0m\u001b[0;34m\u001b[0m\u001b[0;34m\u001b[0m\u001b[0m\n\u001b[1;32m      5\u001b[0m         \u001b[0mprint\u001b[0m\u001b[0;34m(\u001b[0m\u001b[0;34mf\"Index position is {droid.index(row)}\"\u001b[0m\u001b[0;34m)\u001b[0m\u001b[0;34m\u001b[0m\u001b[0;34m\u001b[0m\u001b[0m\n",
      "\u001b[0;31mNameError\u001b[0m: name 'droid_header' is not defined"
     ]
    }
   ],
   "source": [
    "for row in droid:\n",
    "    if len(row) != len(droid_header):\n",
    "        print(row)\n",
    "        print('\\n')\n",
    "        print(f\"Index position is {droid.index(row)}\")"
   ]
  },
  {
   "cell_type": "code",
   "execution_count": null,
   "id": "da9e4f2d-413b-4210-8518-7efa1a0328fc",
   "metadata": {},
   "outputs": [],
   "source": [
    "row_1 = droid[0]\n",
    "row_2 = droid[10473]\n",
    "for col_row_1, col_row_2 in zip(row_1, row_2):\n",
    "    print(f\"{col_row_1}: {col_row_2}\")"
   ]
  },
  {
   "cell_type": "markdown",
   "id": "ea16d11f-eccb-4878-9a21-e541253fd042",
   "metadata": {},
   "source": [
    "Looks like this app has a rating of 19 which is not possible. It is missing an entry for the `Category` column. Let's `delete` that."
   ]
  },
  {
   "cell_type": "code",
   "execution_count": null,
   "id": "8ad4372e-6a3a-4741-9a1f-6d096c58b59f",
   "metadata": {},
   "outputs": [],
   "source": [
    "del droid[10473]"
   ]
  },
  {
   "cell_type": "code",
   "execution_count": null,
   "id": "08b9924b-d811-458d-825a-45cee4d4fbca",
   "metadata": {},
   "outputs": [],
   "source": [
    "row_1 = droid[0]\n",
    "row_2 = droid[10473]\n",
    "for x, y in zip(row_1, row_2):\n",
    "    print(x, y)"
   ]
  },
  {
   "cell_type": "markdown",
   "id": "c21c1697-e6e3-489a-8047-ea6745f56c19",
   "metadata": {},
   "source": [
    "Recall that at our company, we only build apps that are free to download and install, and we design them for an English-speaking audience. This means that we'll need to do the following:\n",
    "\n",
    "* Remove non-English apps like 爱奇艺PPS -《欢乐颂2》电视剧热播.\n",
    "* Remove apps that aren't free."
   ]
  },
  {
   "cell_type": "markdown",
   "id": "1106c14c-dde3-49e9-a91d-62eb7298aaba",
   "metadata": {},
   "source": [
    "## Let's investigate duplicate apps."
   ]
  },
  {
   "cell_type": "code",
   "execution_count": null,
   "id": "4afbcc65-43e1-4607-a7c2-cb1cc4246315",
   "metadata": {},
   "outputs": [],
   "source": [
    "duplicate_apps = []\n",
    "unique_apps = []\n",
    "\n",
    "for app in droid:\n",
    "    name = app[0]\n",
    "    if name in unique_apps:\n",
    "        duplicate_apps.append(name)\n",
    "    else:\n",
    "        unique_apps.append(name)\n",
    "\n",
    "print(f'Number of duplicate app: {len(duplicate_apps)}\\n')\n",
    "print(f'Examples of duplicate apps: {duplicate_apps[:15]}')"
   ]
  },
  {
   "cell_type": "markdown",
   "id": "11901040-8c0f-41c9-beb4-7a2be78b33c2",
   "metadata": {},
   "source": [
    "**That's 1181 duplicate apps. Let's see if we can find some discrepencies between the entries.**"
   ]
  },
  {
   "cell_type": "code",
   "execution_count": null,
   "id": "25920544-b1cf-4703-a70e-1f8c528d021d",
   "metadata": {},
   "outputs": [],
   "source": [
    "for app in droid:\n",
    "    name = app[0]\n",
    "    if name == 'Instagram':\n",
    "        print(app)"
   ]
  },
  {
   "cell_type": "markdown",
   "id": "83c753db-d562-4a78-a432-bf7036295a44",
   "metadata": {},
   "source": [
    "**`Instagram` seems to have taken this info at different points in the rating totals. We can use this number to delete multiple entries.**"
   ]
  },
  {
   "cell_type": "code",
   "execution_count": null,
   "id": "96d9a283-258b-46ba-986e-7dd6d67e52e2",
   "metadata": {},
   "outputs": [],
   "source": [
    "print(f'Expected length: {len(droid)}'')"
   ]
  }
 ],
 "metadata": {
  "kernelspec": {
   "display_name": "Python 3",
   "language": "python",
   "name": "python3"
  },
  "language_info": {
   "codemirror_mode": {
    "name": "ipython",
    "version": 3
   },
   "file_extension": ".py",
   "mimetype": "text/x-python",
   "name": "python",
   "nbconvert_exporter": "python",
   "pygments_lexer": "ipython3",
   "version": "3.8.8"
  }
 },
 "nbformat": 4,
 "nbformat_minor": 5
}
