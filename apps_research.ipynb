{
 "cells": [
  {
   "cell_type": "markdown",
   "id": "3c74a058-8a0c-42dc-9125-c6abc1ea31a5",
   "metadata": {},
   "source": [
    "# iOS and Android App Research\n",
    "* I am putting together datasets to better understand statistics for app development. We'll be looking at data collected from the Google Play and the App Store. \n",
    "\n",
    "For this project, we'll pretend we're working as data analysts for a company that builds Android and iOS mobile apps. We make our apps available on Google Play and in the App Store.\n",
    "\n",
    "We only build apps that are free to download and install, and our main source of revenue consists of in-app ads. This means that the number of users of our apps determines our revenue for any given app — the more users who see and engage with the ads, the better. Our goal for this project is to analyze data to help our developers understand what type of apps are likely to attract more users."
   ]
  },
  {
   "cell_type": "code",
   "execution_count": 1,
   "id": "d551d175-e8ad-4689-a6cb-21421b627641",
   "metadata": {},
   "outputs": [],
   "source": [
    "from csv import reader\n",
    "\n",
    "# App Store data set\n",
    "opened_file_ios = open('AppleStore.csv')\n",
    "read_ios = reader(opened_file_ios)\n",
    "ios_all_data = list(read_ios)\n",
    "ios_header = ios_all_data[0]\n",
    "ios = ios_all_data[1:]\n",
    "\n",
    "# Google Play data set\n",
    "opened_file_android = open('googleplaystore.csv')\n",
    "read_droid = reader(opened_file_android)\n",
    "droid_all_data = list(read_droid)\n",
    "droid_header = droid_all_data[0]\n",
    "droid = droid_all_data[1:]"
   ]
  },
  {
   "cell_type": "code",
   "execution_count": 2,
   "id": "36efd34a-28de-40c8-af53-d2b85f8045eb",
   "metadata": {},
   "outputs": [],
   "source": [
    "def explore_data(dataset, start, end, rows_and_columns=False):\n",
    "    dataset_slice = dataset[start:end]\n",
    "    \n",
    "    if rows_and_columns:\n",
    "        print(f'Number of rows: {len(dataset)}')\n",
    "        print(f'Number of columns:{len(dataset[0])}\\n')\n",
    "        \n",
    "    for row in dataset_slice:\n",
    "        print(row)\n",
    "        print('\\n')  # adds a new blank line after each row."
   ]
  },
  {
   "cell_type": "markdown",
   "id": "98bd1569-9d60-4519-a011-8deaf6ff5c6a",
   "metadata": {},
   "source": [
    "In order to find free, user driven apps, funded by ad revenue I believe relevant columns will be:\n",
    "* name\n",
    "* price\n",
    "* user ratings \n",
    "* prime genre\n",
    "* category\n",
    "* reviews\n",
    "* genre"
   ]
  },
  {
   "cell_type": "code",
   "execution_count": 3,
   "id": "6621a78d-6ac7-456d-b3e4-c544fa427c9a",
   "metadata": {},
   "outputs": [
    {
     "name": "stdout",
     "output_type": "stream",
     "text": [
      "iOS Header...\n",
      "['id', 'track_name', 'size_bytes', 'currency', 'price', 'rating_count_tot', 'rating_count_ver', 'user_rating', 'user_rating_ver', 'ver', 'cont_rating', 'prime_genre', 'sup_devices.num', 'ipadSc_urls.num', 'lang.num', 'vpp_lic'] \n",
      "\n",
      "iOS Data...\n",
      "Number of rows: 7197\n",
      "Number of columns:16\n",
      "\n",
      "['389801252', 'Instagram', '113954816', 'USD', '0.0', '2161558', '1289', '4.5', '4.0', '10.23', '12+', 'Photo & Video', '37', '0', '29', '1']\n",
      "\n",
      "\n",
      "['529479190', 'Clash of Clans', '116476928', 'USD', '0.0', '2130805', '579', '4.5', '4.5', '9.24.12', '9+', 'Games', '38', '5', '18', '1']\n",
      "\n",
      "\n",
      "Android Header...\n",
      "['App', 'Category', 'Rating', 'Reviews', 'Size', 'Installs', 'Type', 'Price', 'Content Rating', 'Genres', 'Last Updated', 'Current Ver', 'Android Ver'] \n",
      "\n",
      "Android Data...\n",
      "Number of rows: 10841\n",
      "Number of columns:13\n",
      "\n",
      "['Coloring book moana', 'ART_AND_DESIGN', '3.9', '967', '14M', '500,000+', 'Free', '0', 'Everyone', 'Art & Design;Pretend Play', 'January 15, 2018', '2.0.0', '4.0.3 and up']\n",
      "\n",
      "\n",
      "['U Launcher Lite – FREE Live Cool Themes, Hide Apps', 'ART_AND_DESIGN', '4.7', '87510', '8.7M', '5,000,000+', 'Free', '0', 'Everyone', 'Art & Design', 'August 1, 2018', '1.2.4', '4.0.3 and up']\n",
      "\n",
      "\n"
     ]
    }
   ],
   "source": [
    "print('iOS Header...')\n",
    "print(ios_header, '\\n')\n",
    "print('iOS Data...')\n",
    "explore_data(ios, 1, 3, True)\n",
    "\n",
    "print('Android Header...')\n",
    "print(droid_header, '\\n')\n",
    "print('Android Data...')\n",
    "explore_data(droid, 1, 3, True)"
   ]
  },
  {
   "cell_type": "markdown",
   "id": "410129ca-090f-4949-81e7-0be631cdfc3f",
   "metadata": {},
   "source": [
    "**Make sure the length of all rows is even with the length of the `header` column.**"
   ]
  },
  {
   "cell_type": "code",
   "execution_count": 4,
   "id": "918f555d-af35-4844-9b4c-a2b6b49d1b23",
   "metadata": {},
   "outputs": [
    {
     "name": "stdout",
     "output_type": "stream",
     "text": [
      "['Life Made WI-Fi Touchscreen Photo Frame', '1.9', '19', '3.0M', '1,000+', 'Free', '0', 'Everyone', '', 'February 11, 2018', '1.0.19', '4.0 and up']\n",
      "\n",
      "\n",
      "Index position is 10472\n"
     ]
    }
   ],
   "source": [
    "for row in droid:\n",
    "    if len(row) != len(droid_header):\n",
    "        print(row)\n",
    "        print('\\n')\n",
    "        print(f\"Index position is {droid.index(row)}\")"
   ]
  },
  {
   "cell_type": "code",
   "execution_count": 5,
   "id": "da9e4f2d-413b-4210-8518-7efa1a0328fc",
   "metadata": {},
   "outputs": [
    {
     "name": "stdout",
     "output_type": "stream",
     "text": [
      "App: Life Made WI-Fi Touchscreen Photo Frame\n",
      "Category: 1.9\n",
      "Rating: 19\n",
      "Reviews: 3.0M\n",
      "Size: 1,000+\n",
      "Installs: Free\n",
      "Type: 0\n",
      "Price: Everyone\n",
      "Content Rating: \n",
      "Genres: February 11, 2018\n",
      "Last Updated: 1.0.19\n",
      "Current Ver: 4.0 and up\n"
     ]
    }
   ],
   "source": [
    "# Print the `row` in an easy to read fashion.\n",
    "problem_row = droid[10472]\n",
    "for item_head, item_row in zip(droid_header, problem_row):\n",
    "    print(f\"{item_head}: {item_row}\")"
   ]
  },
  {
   "cell_type": "markdown",
   "id": "ea16d11f-eccb-4878-9a21-e541253fd042",
   "metadata": {},
   "source": [
    "**Looks like this app has a rating of 19 which is not possible. \n",
    "After reading the discussion board it seems to be missing an entry for the `Category` column. \n",
    "We'll Just delete the whole entry (`row`) for now.**"
   ]
  },
  {
   "cell_type": "code",
   "execution_count": 6,
   "id": "8ad4372e-6a3a-4741-9a1f-6d096c58b59f",
   "metadata": {},
   "outputs": [],
   "source": [
    "del droid[10472]"
   ]
  },
  {
   "cell_type": "code",
   "execution_count": 7,
   "id": "2b1c7f8a-d23b-4f01-879c-9c4e9dcce09b",
   "metadata": {},
   "outputs": [
    {
     "name": "stdout",
     "output_type": "stream",
     "text": [
      "App: osmino Wi-Fi: free WiFi\n",
      "Category: TOOLS\n",
      "Rating: 4.2\n",
      "Reviews: 134203\n",
      "Size: 4.1M\n",
      "Installs: 10,000,000+\n",
      "Type: Free\n",
      "Price: 0\n",
      "Content Rating: Everyone\n",
      "Genres: Tools\n",
      "Last Updated: August 7, 2018\n",
      "Current Ver: 6.06.14\n",
      "Android Ver: 4.4 and up\n"
     ]
    }
   ],
   "source": [
    "# Print the `row` in an easy to read fashion.\n",
    "problem_row = droid[10472]\n",
    "for item_head, item_row in zip(droid_header, problem_row):\n",
    "    print(f\"{item_head}: {item_row}\")"
   ]
  },
  {
   "cell_type": "markdown",
   "id": "c21c1697-e6e3-489a-8047-ea6745f56c19",
   "metadata": {},
   "source": [
    "Recall that at our company, we only build apps that are free to download and install, and we design them for an English-speaking audience. This means that we'll need to do the following:\n",
    "\n",
    "* Remove non-English apps like 爱奇艺PPS -《欢乐颂2》电视剧热播.\n",
    "* Remove apps that aren't free."
   ]
  },
  {
   "cell_type": "markdown",
   "id": "1106c14c-dde3-49e9-a91d-62eb7298aaba",
   "metadata": {},
   "source": [
    "## Let's investigate duplicate apps."
   ]
  },
  {
   "cell_type": "code",
   "execution_count": 8,
   "id": "4afbcc65-43e1-4607-a7c2-cb1cc4246315",
   "metadata": {},
   "outputs": [
    {
     "name": "stdout",
     "output_type": "stream",
     "text": [
      "Number of duplicate app: 1181\n",
      "\n",
      "Examples of duplicate apps: ['Quick PDF Scanner + OCR FREE', 'Box', 'Google My Business', 'ZOOM Cloud Meetings', 'join.me - Simple Meetings', 'Box', 'Zenefits', 'Google Ads', 'Google My Business', 'Slack', 'FreshBooks Classic', 'Insightly CRM', 'QuickBooks Accounting: Invoicing & Expenses', 'HipChat - Chat Built for Teams', 'Xero Accounting Software']\n"
     ]
    }
   ],
   "source": [
    "duplicate_apps = []\n",
    "unique_apps = []\n",
    "\n",
    "for app in droid:\n",
    "    name = app[0]\n",
    "    if name in unique_apps:\n",
    "        duplicate_apps.append(name)\n",
    "    else:\n",
    "        unique_apps.append(name)\n",
    "\n",
    "print(f'Number of duplicate app: {len(duplicate_apps)}\\n')\n",
    "print(f'Examples of duplicate apps: {duplicate_apps[:15]}')"
   ]
  },
  {
   "cell_type": "markdown",
   "id": "11901040-8c0f-41c9-beb4-7a2be78b33c2",
   "metadata": {},
   "source": [
    "**That's 1181 duplicate apps. Let's see if we can find some discrepencies between the entries.**"
   ]
  },
  {
   "cell_type": "code",
   "execution_count": 9,
   "id": "25920544-b1cf-4703-a70e-1f8c528d021d",
   "metadata": {},
   "outputs": [
    {
     "name": "stdout",
     "output_type": "stream",
     "text": [
      "['Instagram', 'SOCIAL', '4.5', '66577313', 'Varies with device', '1,000,000,000+', 'Free', '0', 'Teen', 'Social', 'July 31, 2018', 'Varies with device', 'Varies with device']\n",
      "['Instagram', 'SOCIAL', '4.5', '66577446', 'Varies with device', '1,000,000,000+', 'Free', '0', 'Teen', 'Social', 'July 31, 2018', 'Varies with device', 'Varies with device']\n",
      "['Instagram', 'SOCIAL', '4.5', '66577313', 'Varies with device', '1,000,000,000+', 'Free', '0', 'Teen', 'Social', 'July 31, 2018', 'Varies with device', 'Varies with device']\n",
      "['Instagram', 'SOCIAL', '4.5', '66509917', 'Varies with device', '1,000,000,000+', 'Free', '0', 'Teen', 'Social', 'July 31, 2018', 'Varies with device', 'Varies with device']\n"
     ]
    }
   ],
   "source": [
    "for app in droid:\n",
    "    name = app[0]\n",
    "    if name == 'Instagram':\n",
    "        print(app)"
   ]
  },
  {
   "cell_type": "markdown",
   "id": "83c753db-d562-4a78-a432-bf7036295a44",
   "metadata": {},
   "source": [
    "**`Instagram` has multiple entries with varying `Rating` totals. It's safe to assume the higher the `Rating` total the more recent the data. \n",
    "Instead of removing duplicates randomly we'll use the `Rating` total column to remove duplicates.**"
   ]
  },
  {
   "cell_type": "code",
   "execution_count": 12,
   "id": "96d9a283-258b-46ba-986e-7dd6d67e52e2",
   "metadata": {},
   "outputs": [
    {
     "name": "stdout",
     "output_type": "stream",
     "text": [
      "Expected length: 9659\n"
     ]
    }
   ],
   "source": [
    "print(f'Expected length: {len(droid) - 1181}')"
   ]
  }
 ],
 "metadata": {
  "kernelspec": {
   "display_name": "Python 3 (ipykernel)",
   "language": "python",
   "name": "python3"
  },
  "language_info": {
   "codemirror_mode": {
    "name": "ipython",
    "version": 3
   },
   "file_extension": ".py",
   "mimetype": "text/x-python",
   "name": "python",
   "nbconvert_exporter": "python",
   "pygments_lexer": "ipython3",
   "version": "3.9.5"
  }
 },
 "nbformat": 4,
 "nbformat_minor": 5
}
