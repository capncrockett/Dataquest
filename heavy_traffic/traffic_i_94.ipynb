{
 "cells": [
  {
   "cell_type": "markdown",
   "id": "ab27b5ae-f639-493e-9093-6c9f16eb4b2c",
   "metadata": {},
   "source": [
    "\n",
    "# Finding Heavy Traffic Indicators on I-94\n"
   ]
  },
  {
   "cell_type": "markdown",
   "id": "ac59f595-9806-487a-af2b-ab562df4beda",
   "metadata": {},
   "source": [
    "This project aims to explore and identify contributing factors to heavier traffic on Westbound I-94 traffic. It will take into account weather, temperature, time of day, and explore any additional unknowns.  \n",
    "\n",
    "The goal is to identify what cause a traffic flow to become heavier during a given period of time."
   ]
  },
  {
   "cell_type": "code",
   "execution_count": 1,
   "id": "7ea543b1-ee26-4034-9ca6-16c37c4ba719",
   "metadata": {},
   "outputs": [
    {
     "data": {
      "text/html": [
       "<div>\n",
       "<style scoped>\n",
       "    .dataframe tbody tr th:only-of-type {\n",
       "        vertical-align: middle;\n",
       "    }\n",
       "\n",
       "    .dataframe tbody tr th {\n",
       "        vertical-align: top;\n",
       "    }\n",
       "\n",
       "    .dataframe thead th {\n",
       "        text-align: right;\n",
       "    }\n",
       "</style>\n",
       "<table border=\"1\" class=\"dataframe\">\n",
       "  <thead>\n",
       "    <tr style=\"text-align: right;\">\n",
       "      <th></th>\n",
       "      <th>holiday</th>\n",
       "      <th>temp</th>\n",
       "      <th>rain_1h</th>\n",
       "      <th>snow_1h</th>\n",
       "      <th>clouds_all</th>\n",
       "      <th>weather_main</th>\n",
       "      <th>weather_description</th>\n",
       "      <th>date_time</th>\n",
       "      <th>traffic_volume</th>\n",
       "    </tr>\n",
       "  </thead>\n",
       "  <tbody>\n",
       "    <tr>\n",
       "      <th>0</th>\n",
       "      <td>None</td>\n",
       "      <td>288.28</td>\n",
       "      <td>0.0</td>\n",
       "      <td>0.0</td>\n",
       "      <td>40</td>\n",
       "      <td>Clouds</td>\n",
       "      <td>scattered clouds</td>\n",
       "      <td>2012-10-02 09:00:00</td>\n",
       "      <td>5545</td>\n",
       "    </tr>\n",
       "    <tr>\n",
       "      <th>1</th>\n",
       "      <td>None</td>\n",
       "      <td>289.36</td>\n",
       "      <td>0.0</td>\n",
       "      <td>0.0</td>\n",
       "      <td>75</td>\n",
       "      <td>Clouds</td>\n",
       "      <td>broken clouds</td>\n",
       "      <td>2012-10-02 10:00:00</td>\n",
       "      <td>4516</td>\n",
       "    </tr>\n",
       "    <tr>\n",
       "      <th>2</th>\n",
       "      <td>None</td>\n",
       "      <td>289.58</td>\n",
       "      <td>0.0</td>\n",
       "      <td>0.0</td>\n",
       "      <td>90</td>\n",
       "      <td>Clouds</td>\n",
       "      <td>overcast clouds</td>\n",
       "      <td>2012-10-02 11:00:00</td>\n",
       "      <td>4767</td>\n",
       "    </tr>\n",
       "    <tr>\n",
       "      <th>3</th>\n",
       "      <td>None</td>\n",
       "      <td>290.13</td>\n",
       "      <td>0.0</td>\n",
       "      <td>0.0</td>\n",
       "      <td>90</td>\n",
       "      <td>Clouds</td>\n",
       "      <td>overcast clouds</td>\n",
       "      <td>2012-10-02 12:00:00</td>\n",
       "      <td>5026</td>\n",
       "    </tr>\n",
       "    <tr>\n",
       "      <th>4</th>\n",
       "      <td>None</td>\n",
       "      <td>291.14</td>\n",
       "      <td>0.0</td>\n",
       "      <td>0.0</td>\n",
       "      <td>75</td>\n",
       "      <td>Clouds</td>\n",
       "      <td>broken clouds</td>\n",
       "      <td>2012-10-02 13:00:00</td>\n",
       "      <td>4918</td>\n",
       "    </tr>\n",
       "  </tbody>\n",
       "</table>\n",
       "</div>"
      ],
      "text/plain": [
       "  holiday    temp  rain_1h  snow_1h  clouds_all weather_main  \\\n",
       "0    None  288.28      0.0      0.0          40       Clouds   \n",
       "1    None  289.36      0.0      0.0          75       Clouds   \n",
       "2    None  289.58      0.0      0.0          90       Clouds   \n",
       "3    None  290.13      0.0      0.0          90       Clouds   \n",
       "4    None  291.14      0.0      0.0          75       Clouds   \n",
       "\n",
       "  weather_description            date_time  traffic_volume  \n",
       "0    scattered clouds  2012-10-02 09:00:00            5545  \n",
       "1       broken clouds  2012-10-02 10:00:00            4516  \n",
       "2     overcast clouds  2012-10-02 11:00:00            4767  \n",
       "3     overcast clouds  2012-10-02 12:00:00            5026  \n",
       "4       broken clouds  2012-10-02 13:00:00            4918  "
      ]
     },
     "execution_count": 1,
     "metadata": {},
     "output_type": "execute_result"
    }
   ],
   "source": [
    "import pandas as pd\n",
    "import matplotlib.pyplot as plt\n",
    "%matplotlib inline\n",
    "\n",
    "traffic = pd.read_csv('Metro_Interstate_Traffic_Volume.csv', index_col=False)\n",
    "\n",
    "traffic.head()"
   ]
  },
  {
   "cell_type": "code",
   "execution_count": 2,
   "id": "ce24e0d0-46ec-4287-b2f8-2268c1f977d2",
   "metadata": {},
   "outputs": [
    {
     "data": {
      "text/html": [
       "<div>\n",
       "<style scoped>\n",
       "    .dataframe tbody tr th:only-of-type {\n",
       "        vertical-align: middle;\n",
       "    }\n",
       "\n",
       "    .dataframe tbody tr th {\n",
       "        vertical-align: top;\n",
       "    }\n",
       "\n",
       "    .dataframe thead th {\n",
       "        text-align: right;\n",
       "    }\n",
       "</style>\n",
       "<table border=\"1\" class=\"dataframe\">\n",
       "  <thead>\n",
       "    <tr style=\"text-align: right;\">\n",
       "      <th></th>\n",
       "      <th>holiday</th>\n",
       "      <th>temp</th>\n",
       "      <th>rain_1h</th>\n",
       "      <th>snow_1h</th>\n",
       "      <th>clouds_all</th>\n",
       "      <th>weather_main</th>\n",
       "      <th>weather_description</th>\n",
       "      <th>date_time</th>\n",
       "      <th>traffic_volume</th>\n",
       "    </tr>\n",
       "  </thead>\n",
       "  <tbody>\n",
       "    <tr>\n",
       "      <th>48199</th>\n",
       "      <td>None</td>\n",
       "      <td>283.45</td>\n",
       "      <td>0.0</td>\n",
       "      <td>0.0</td>\n",
       "      <td>75</td>\n",
       "      <td>Clouds</td>\n",
       "      <td>broken clouds</td>\n",
       "      <td>2018-09-30 19:00:00</td>\n",
       "      <td>3543</td>\n",
       "    </tr>\n",
       "    <tr>\n",
       "      <th>48200</th>\n",
       "      <td>None</td>\n",
       "      <td>282.76</td>\n",
       "      <td>0.0</td>\n",
       "      <td>0.0</td>\n",
       "      <td>90</td>\n",
       "      <td>Clouds</td>\n",
       "      <td>overcast clouds</td>\n",
       "      <td>2018-09-30 20:00:00</td>\n",
       "      <td>2781</td>\n",
       "    </tr>\n",
       "    <tr>\n",
       "      <th>48201</th>\n",
       "      <td>None</td>\n",
       "      <td>282.73</td>\n",
       "      <td>0.0</td>\n",
       "      <td>0.0</td>\n",
       "      <td>90</td>\n",
       "      <td>Thunderstorm</td>\n",
       "      <td>proximity thunderstorm</td>\n",
       "      <td>2018-09-30 21:00:00</td>\n",
       "      <td>2159</td>\n",
       "    </tr>\n",
       "    <tr>\n",
       "      <th>48202</th>\n",
       "      <td>None</td>\n",
       "      <td>282.09</td>\n",
       "      <td>0.0</td>\n",
       "      <td>0.0</td>\n",
       "      <td>90</td>\n",
       "      <td>Clouds</td>\n",
       "      <td>overcast clouds</td>\n",
       "      <td>2018-09-30 22:00:00</td>\n",
       "      <td>1450</td>\n",
       "    </tr>\n",
       "    <tr>\n",
       "      <th>48203</th>\n",
       "      <td>None</td>\n",
       "      <td>282.12</td>\n",
       "      <td>0.0</td>\n",
       "      <td>0.0</td>\n",
       "      <td>90</td>\n",
       "      <td>Clouds</td>\n",
       "      <td>overcast clouds</td>\n",
       "      <td>2018-09-30 23:00:00</td>\n",
       "      <td>954</td>\n",
       "    </tr>\n",
       "  </tbody>\n",
       "</table>\n",
       "</div>"
      ],
      "text/plain": [
       "      holiday    temp  rain_1h  snow_1h  clouds_all  weather_main  \\\n",
       "48199    None  283.45      0.0      0.0          75        Clouds   \n",
       "48200    None  282.76      0.0      0.0          90        Clouds   \n",
       "48201    None  282.73      0.0      0.0          90  Thunderstorm   \n",
       "48202    None  282.09      0.0      0.0          90        Clouds   \n",
       "48203    None  282.12      0.0      0.0          90        Clouds   \n",
       "\n",
       "          weather_description            date_time  traffic_volume  \n",
       "48199           broken clouds  2018-09-30 19:00:00            3543  \n",
       "48200         overcast clouds  2018-09-30 20:00:00            2781  \n",
       "48201  proximity thunderstorm  2018-09-30 21:00:00            2159  \n",
       "48202         overcast clouds  2018-09-30 22:00:00            1450  \n",
       "48203         overcast clouds  2018-09-30 23:00:00             954  "
      ]
     },
     "execution_count": 2,
     "metadata": {},
     "output_type": "execute_result"
    }
   ],
   "source": [
    "traffic.tail()"
   ]
  },
  {
   "cell_type": "code",
   "execution_count": 3,
   "id": "ae918727-5ebb-4a53-ae64-44177e302152",
   "metadata": {},
   "outputs": [
    {
     "name": "stdout",
     "output_type": "stream",
     "text": [
      "<class 'pandas.core.frame.DataFrame'>\n",
      "RangeIndex: 48204 entries, 0 to 48203\n",
      "Data columns (total 9 columns):\n",
      " #   Column               Non-Null Count  Dtype  \n",
      "---  ------               --------------  -----  \n",
      " 0   holiday              48204 non-null  object \n",
      " 1   temp                 48204 non-null  float64\n",
      " 2   rain_1h              48204 non-null  float64\n",
      " 3   snow_1h              48204 non-null  float64\n",
      " 4   clouds_all           48204 non-null  int64  \n",
      " 5   weather_main         48204 non-null  object \n",
      " 6   weather_description  48204 non-null  object \n",
      " 7   date_time            48204 non-null  object \n",
      " 8   traffic_volume       48204 non-null  int64  \n",
      "dtypes: float64(3), int64(2), object(4)\n",
      "memory usage: 3.3+ MB\n"
     ]
    }
   ],
   "source": [
    "traffic.info()"
   ]
  },
  {
   "cell_type": "code",
   "execution_count": 4,
   "id": "f487391a-2dc9-40f1-b867-e856abb0aca1",
   "metadata": {},
   "outputs": [
    {
     "data": {
      "image/png": "[encoded data removed]",
      "text/plain": [
       "<Figure size 432x288 with 1 Axes>"
      ]
     },
     "metadata": {
      "needs_background": "light"
     },
     "output_type": "display_data"
    }
   ],
   "source": [
    "plt.hist(traffic['traffic_volume'])\n",
    "plt.show()"
   ]
  },
  {
   "cell_type": "code",
   "execution_count": 5,
   "id": "92347d7b-3dfc-49a3-9dcd-c48df6e7e7ab",
   "metadata": {},
   "outputs": [
    {
     "data": {
      "text/plain": [
       "count    48204.000000\n",
       "mean      3259.818355\n",
       "std       1986.860670\n",
       "min          0.000000\n",
       "25%       1193.000000\n",
       "50%       3380.000000\n",
       "75%       4933.000000\n",
       "max       7280.000000\n",
       "Name: traffic_volume, dtype: float64"
      ]
     },
     "execution_count": 5,
     "metadata": {},
     "output_type": "execute_result"
    }
   ],
   "source": [
    "traffic['traffic_volume'].describe()"
   ]
  },
  {
   "cell_type": "markdown",
   "id": "99b0173e-3c11-4625-bf17-a06b606764db",
   "metadata": {},
   "source": [
    "* It seems the majority of traffic volume is around <1000 and 4900. This tells me traffic tends to stay in the <1000 range, except when it peaks up around 4900. This could be due to time of day.  \n",
    "* The highest we ever get is 7280, but this is also very uncommon. Perhaps this could be explained by a holiday or some kind of event.  \n",
    "* The lowest being 0.0 is interesting. This could be due to dead stop traffic from construction or an accident?  "
   ]
  },
  {
   "cell_type": "markdown",
   "id": "e1098f19-f990-4adc-8964-2424c66b532e",
   "metadata": {},
   "source": [
    "\n",
    "## Date and Time Exploration\n",
    "\n",
    "\n",
    "There is probably a difference in day and night time traffic. We'll go ahead and split the data up."
   ]
  },
  {
   "cell_type": "code",
   "execution_count": 6,
   "id": "a17224df-23fd-4202-ae3a-9ef9b1491a15",
   "metadata": {},
   "outputs": [
    {
     "data": {
      "text/plain": [
       "0         9\n",
       "1        10\n",
       "2        11\n",
       "3        12\n",
       "4        13\n",
       "         ..\n",
       "48199    19\n",
       "48200    20\n",
       "48201    21\n",
       "48202    22\n",
       "48203    23\n",
       "Name: date_time, Length: 48204, dtype: int64"
      ]
     },
     "execution_count": 6,
     "metadata": {},
     "output_type": "execute_result"
    }
   ],
   "source": [
    "traffic['date_time'] = pd.to_datetime(traffic['date_time'])\n",
    "traffic['date_time'].dt.hour"
   ]
  },
  {
   "cell_type": "code",
   "execution_count": 7,
   "id": "f6014453-b1d6-4495-af36-fc4ed5c665f4",
   "metadata": {},
   "outputs": [],
   "source": [
    "traffic_hour = traffic['date_time'].dt.hour\n",
    "day_filter = (traffic_hour >= 7) & (traffic_hour < 19)\n",
    "# day_filter.describe()\n",
    "\n",
    "day_traffic = traffic.loc[day_filter].copy()\n",
    "night_traffic = traffic.loc[~day_filter].copy()"
   ]
  },
  {
   "cell_type": "code",
   "execution_count": 8,
   "id": "5922067a-0cd7-474f-891e-80bacc1c727c",
   "metadata": {},
   "outputs": [
    {
     "data": {
      "image/png": "[encoded data removed]",
      "text/plain": [
       "<Figure size 720x216 with 2 Axes>"
      ]
     },
     "metadata": {
      "needs_background": "light"
     },
     "output_type": "display_data"
    }
   ],
   "source": [
    "plt.figure(figsize=(10, 3))\n",
    "\n",
    "plt.subplot(1, 2, 1)\n",
    "plt.hist(day_traffic['traffic_volume'])\n",
    "plt.title('Day')\n",
    "plt.xlabel('T r a f f i c   V o l u m e')\n",
    "plt.ylabel('Frequency')\n",
    "plt.xlim(0, 7500)\n",
    "plt.ylim(0, 8000)\n",
    "\n",
    "\n",
    "plt.subplot(1, 2, 2)\n",
    "plt.hist(night_traffic['traffic_volume'])\n",
    "plt.title('Night')\n",
    "plt.xlabel('T r a f f i c   V o l u m e')\n",
    "plt.ylabel('Frequency')\n",
    "plt.xlim(0, 7500)\n",
    "plt.ylim(0, 8000)\n",
    "\n",
    "plt.show()"
   ]
  },
  {
   "cell_type": "code",
   "execution_count": 9,
   "id": "0f6f633f-59c1-4e72-abf6-66050c72d614",
   "metadata": {},
   "outputs": [
    {
     "data": {
      "text/plain": [
       "count    23877.000000\n",
       "mean      4762.047452\n",
       "std       1174.546482\n",
       "min          0.000000\n",
       "25%       4252.000000\n",
       "50%       4820.000000\n",
       "75%       5559.000000\n",
       "max       7280.000000\n",
       "Name: traffic_volume, dtype: float64"
      ]
     },
     "execution_count": 9,
     "metadata": {},
     "output_type": "execute_result"
    }
   ],
   "source": [
    "day_traffic['traffic_volume'].describe()"
   ]
  },
  {
   "cell_type": "code",
   "execution_count": 10,
   "id": "2e36e025-2100-4cf8-802b-9e6f905a3da4",
   "metadata": {},
   "outputs": [
    {
     "data": {
      "text/plain": [
       "count    24327.000000\n",
       "mean      1785.377441\n",
       "std       1441.951197\n",
       "min          0.000000\n",
       "25%        530.000000\n",
       "50%       1287.000000\n",
       "75%       2819.000000\n",
       "max       6386.000000\n",
       "Name: traffic_volume, dtype: float64"
      ]
     },
     "execution_count": 10,
     "metadata": {},
     "output_type": "execute_result"
    }
   ],
   "source": [
    "night_traffic['traffic_volume'].describe()"
   ]
  },
  {
   "cell_type": "markdown",
   "id": "65dd5193-98fe-4f72-802c-a28d20025e65",
   "metadata": {},
   "source": [
    "* The Day histogram has a left skew indicating a higher volume of traffic during the day. The mean volume during the day is 4762 with a deviation of 1174, meaning most of the day time traffic occurs in hourly peaks from 4000-6000.  \n",
    "* The Night histogram has a pretty strong right skew indicating less traffic during this time period. The most frequent occurences come in the form of small volumes below 2000.  \n",
    "* All this leads me to believe that the vast majority of the traffic comes during the day.  \n",
    "\n",
    "Since the traffic is so light at night, and our goal is to find factors contributing to heavy traffic, I'm going to focus exclusively on day time traffic.  "
   ]
  },
  {
   "cell_type": "code",
   "execution_count": 11,
   "id": "6a1f8f9b-bd93-4d00-8901-1f2fa43901cb",
   "metadata": {},
   "outputs": [
    {
     "data": {
      "text/plain": [
       "month\n",
       "1     4495.613727\n",
       "2     4711.198394\n",
       "3     4889.409560\n",
       "4     4906.894305\n",
       "5     4911.121609\n",
       "6     4898.019566\n",
       "7     4595.035744\n",
       "8     4928.302035\n",
       "9     4870.783145\n",
       "10    4921.234922\n",
       "11    4704.094319\n",
       "12    4374.834566\n",
       "Name: traffic_volume, dtype: float64"
      ]
     },
     "execution_count": 11,
     "metadata": {},
     "output_type": "execute_result"
    }
   ],
   "source": [
    "day_traffic['month'] = day_traffic['date_time'].dt.month\n",
    "by_month = day_traffic.groupby('month').mean()\n",
    "by_month['traffic_volume']"
   ]
  },
  {
   "cell_type": "code",
   "execution_count": 12,
   "id": "b5b68288-6308-4334-8137-c244c5536360",
   "metadata": {},
   "outputs": [
    {
     "data": {
      "image/png": "[encoded data removed]",
      "text/plain": [
       "<Figure size 432x288 with 1 Axes>"
      ]
     },
     "metadata": {
      "needs_background": "light"
     },
     "output_type": "display_data"
    }
   ],
   "source": [
    "plt.plot(by_month['traffic_volume'])\n",
    "plt.show()"
   ]
  },
  {
   "cell_type": "markdown",
   "id": "823172a5-62b8-4543-aea7-c9736dec05e1",
   "metadata": {},
   "source": [
    "* Interesting to note the big dip in July. Perhaps there's a university or some other seasonal destination that causes traffic volume to decrease on average during this period.  \n",
    "* The major dip in December is most likely attributed to the holiday season and most drivers being off the road from 12/24-1/1.  \n",
    "* In general there is heavier traffic in the warmer months (Spring to Fall) than the colder months (Winter).  \n",
    "\n",
    "Let's take a look in on July over the years. Is there something special?"
   ]
  },
  {
   "cell_type": "code",
   "execution_count": 13,
   "id": "75060043-0565-46d8-a7b7-94c3ffc5b708",
   "metadata": {},
   "outputs": [
    {
     "data": {
      "image/png": "[encoded data removed]",
      "text/plain": [
       "<Figure size 432x288 with 1 Axes>"
      ]
     },
     "metadata": {
      "needs_background": "light"
     },
     "output_type": "display_data"
    }
   ],
   "source": [
    "day_traffic['year'] = day_traffic['date_time'].dt.year\n",
    "only_july = day_traffic[day_traffic['month'] == 7]\n",
    "only_july.groupby('year').mean()['traffic_volume'].plot.line()\n",
    "plt.show()"
   ]
  },
  {
   "cell_type": "markdown",
   "id": "4867cefa-7b60-4ff2-81fc-ef3fa0db0ce9",
   "metadata": {},
   "source": [
    "It looks like July usually has heavier traffic. One reason for the 2016 dip could be construction. According to this website https://www.dot.state.mn.us/I-94minneapolis-stpaul/ there was indeed a large construction project from 2016-2018.  "
   ]
  },
  {
   "cell_type": "markdown",
   "id": "7e3bb4b9-ed5e-41d6-b3f5-c5937a65a5f8",
   "metadata": {},
   "source": [
    "\n",
    "\n",
    "Let's look at the traffic averages for each day of the week."
   ]
  },
  {
   "cell_type": "code",
   "execution_count": 14,
   "id": "535a7d8e-db96-4f96-8756-bcec40f3e81f",
   "metadata": {},
   "outputs": [
    {
     "data": {
      "text/plain": [
       "day_of_week\n",
       "0    4893.551286\n",
       "1    5189.004782\n",
       "2    5284.454282\n",
       "3    5311.303730\n",
       "4    5291.600829\n",
       "5    3927.249558\n",
       "6    3436.541789\n",
       "Name: traffic_volume, dtype: float64"
      ]
     },
     "execution_count": 14,
     "metadata": {},
     "output_type": "execute_result"
    }
   ],
   "source": [
    "day_traffic['day_of_week'] = day_traffic['date_time'].dt.day_of_week\n",
    "by_day_of_week = day_traffic.groupby('day_of_week').mean()\n",
    "by_day_of_week['traffic_volume'] # 0 is Monday, 6 is Sunday"
   ]
  },
  {
   "cell_type": "code",
   "execution_count": 15,
   "id": "1e6aa52b-e21d-4b2a-8cde-cecf8bc20a72",
   "metadata": {},
   "outputs": [
    {
     "data": {
      "image/png": "[encoded data removed]",
      "text/plain": [
       "<Figure size 432x288 with 1 Axes>"
      ]
     },
     "metadata": {
      "needs_background": "light"
     },
     "output_type": "display_data"
    }
   ],
   "source": [
    "plt.plot(by_day_of_week['traffic_volume'])\n",
    "plt.show()"
   ]
  },
  {
   "cell_type": "markdown",
   "id": "6d307017-0fab-4511-9810-6a5116406031",
   "metadata": {},
   "source": [
    "No surprises here. The busiest days, on average, of the week are Monday through Friday(0-4 respectively). "
   ]
  },
  {
   "cell_type": "code",
   "execution_count": 16,
   "id": "85a92f3f-47a4-4dbb-a5ed-d4676107db23",
   "metadata": {},
   "outputs": [
    {
     "name": "stdout",
     "output_type": "stream",
     "text": [
      "hour\n",
      "7     6030.413559\n",
      "8     5503.497970\n",
      "9     4895.269257\n",
      "10    4378.419118\n",
      "11    4633.419470\n",
      "12    4855.382143\n",
      "13    4859.180473\n",
      "14    5152.995778\n",
      "15    5592.897768\n",
      "16    6189.473647\n",
      "17    5784.827133\n",
      "18    4434.209431\n",
      "Name: traffic_volume, dtype: float64\n",
      "hour\n",
      "7     1589.365894\n",
      "8     2338.578073\n",
      "9     3111.623917\n",
      "10    3686.632302\n",
      "11    4044.154955\n",
      "12    4372.482883\n",
      "13    4362.296564\n",
      "14    4358.543796\n",
      "15    4342.456881\n",
      "16    4339.693805\n",
      "17    4151.919929\n",
      "18    3811.792279\n",
      "Name: traffic_volume, dtype: float64\n"
     ]
    }
   ],
   "source": [
    "day_traffic['hour'] = day_traffic['date_time'].dt.hour\n",
    "weekdays = day_traffic.copy()[day_traffic['day_of_week'] <= 4] # 4 == Friday\n",
    "weekend = day_traffic.copy()[day_traffic['day_of_week'] >= 5] # 5 == Saturday\n",
    "by_hour_weekday = weekdays.groupby('hour').mean()\n",
    "by_hour_weekend = weekend.groupby('hour').mean()\n",
    "\n",
    "print(by_hour_weekday['traffic_volume'])\n",
    "print(by_hour_weekend['traffic_volume'])"
   ]
  },
  {
   "cell_type": "code",
   "execution_count": 17,
   "id": "6a6593c3-2177-4ffd-9725-61d7a4e4261a",
   "metadata": {},
   "outputs": [
    {
     "data": {
      "image/png": "[encoded data removed]",
      "text/plain": [
       "<Figure size 720x216 with 2 Axes>"
      ]
     },
     "metadata": {
      "needs_background": "light"
     },
     "output_type": "display_data"
    }
   ],
   "source": [
    "plt.figure(figsize=(10, 3))\n",
    "\n",
    "plt.subplot(1, 2, 1)\n",
    "plt.plot(by_hour_weekday['traffic_volume'])\n",
    "plt.title('Weekday')\n",
    "plt.xlabel('Hour')\n",
    "plt.ylabel('T r a f f i c   V o l u m e')\n",
    "plt.xlim(6, 19)\n",
    "plt.ylim(0, 6500)\n",
    "\n",
    "\n",
    "plt.subplot(1, 2, 2)\n",
    "plt.plot(by_hour_weekend['traffic_volume'])\n",
    "plt.title('Weekend')\n",
    "plt.xlabel('Hour')\n",
    "plt.ylabel('T r a f f i c   V o l u m e')\n",
    "plt.xlim(6, 19)\n",
    "plt.ylim(0, 6500)\n",
    "\n",
    "plt.show()"
   ]
  },
  {
   "cell_type": "markdown",
   "id": "35bf85e6-8b2e-482d-b486-aaa68cc9ce97",
   "metadata": {},
   "source": [
    "\n",
    "## Date and Time Summary:\n",
    "\n",
    "* The majority of the traffic occurs on the weekdays.  \n",
    "* Our data only starts at the 7:00, but there is certainly a rush hour already in progress. I would assume this is drivers on their way to work.  \n",
    "* It would be interesting to see farther back to 6:00 or even 5:00 to get an idea of when it really starts to pick up.  \n",
    "* An additional rush hour occurs at the end of the workday around 16:00 (4:00pm) which is when many work shifts end and people commute home. "
   ]
  },
  {
   "cell_type": "markdown",
   "id": "63a9c72b-d96e-493b-bb33-7b376d30e156",
   "metadata": {},
   "source": [
    "\n",
    "## Weather (Numerical) Exploration\n",
    "\n",
    "We have a lot of information regarding weather that could play some factor in heavy traffic. Things like snow or rain for an entire hour should have some kind of impact."
   ]
  },
  {
   "cell_type": "code",
   "execution_count": 18,
   "id": "fbf86297-7336-43e8-bae9-927fa228e2bb",
   "metadata": {},
   "outputs": [
    {
     "data": {
      "text/html": [
       "<div>\n",
       "<style scoped>\n",
       "    .dataframe tbody tr th:only-of-type {\n",
       "        vertical-align: middle;\n",
       "    }\n",
       "\n",
       "    .dataframe tbody tr th {\n",
       "        vertical-align: top;\n",
       "    }\n",
       "\n",
       "    .dataframe thead th {\n",
       "        text-align: right;\n",
       "    }\n",
       "</style>\n",
       "<table border=\"1\" class=\"dataframe\">\n",
       "  <thead>\n",
       "    <tr style=\"text-align: right;\">\n",
       "      <th></th>\n",
       "      <th>holiday</th>\n",
       "      <th>temp</th>\n",
       "      <th>rain_1h</th>\n",
       "      <th>snow_1h</th>\n",
       "      <th>clouds_all</th>\n",
       "      <th>weather_main</th>\n",
       "      <th>weather_description</th>\n",
       "      <th>date_time</th>\n",
       "      <th>traffic_volume</th>\n",
       "      <th>month</th>\n",
       "      <th>year</th>\n",
       "      <th>day_of_week</th>\n",
       "      <th>hour</th>\n",
       "    </tr>\n",
       "  </thead>\n",
       "  <tbody>\n",
       "    <tr>\n",
       "      <th>0</th>\n",
       "      <td>None</td>\n",
       "      <td>288.28</td>\n",
       "      <td>0.0</td>\n",
       "      <td>0.0</td>\n",
       "      <td>40</td>\n",
       "      <td>Clouds</td>\n",
       "      <td>scattered clouds</td>\n",
       "      <td>2012-10-02 09:00:00</td>\n",
       "      <td>5545</td>\n",
       "      <td>10</td>\n",
       "      <td>2012</td>\n",
       "      <td>1</td>\n",
       "      <td>9</td>\n",
       "    </tr>\n",
       "    <tr>\n",
       "      <th>1</th>\n",
       "      <td>None</td>\n",
       "      <td>289.36</td>\n",
       "      <td>0.0</td>\n",
       "      <td>0.0</td>\n",
       "      <td>75</td>\n",
       "      <td>Clouds</td>\n",
       "      <td>broken clouds</td>\n",
       "      <td>2012-10-02 10:00:00</td>\n",
       "      <td>4516</td>\n",
       "      <td>10</td>\n",
       "      <td>2012</td>\n",
       "      <td>1</td>\n",
       "      <td>10</td>\n",
       "    </tr>\n",
       "    <tr>\n",
       "      <th>2</th>\n",
       "      <td>None</td>\n",
       "      <td>289.58</td>\n",
       "      <td>0.0</td>\n",
       "      <td>0.0</td>\n",
       "      <td>90</td>\n",
       "      <td>Clouds</td>\n",
       "      <td>overcast clouds</td>\n",
       "      <td>2012-10-02 11:00:00</td>\n",
       "      <td>4767</td>\n",
       "      <td>10</td>\n",
       "      <td>2012</td>\n",
       "      <td>1</td>\n",
       "      <td>11</td>\n",
       "    </tr>\n",
       "    <tr>\n",
       "      <th>3</th>\n",
       "      <td>None</td>\n",
       "      <td>290.13</td>\n",
       "      <td>0.0</td>\n",
       "      <td>0.0</td>\n",
       "      <td>90</td>\n",
       "      <td>Clouds</td>\n",
       "      <td>overcast clouds</td>\n",
       "      <td>2012-10-02 12:00:00</td>\n",
       "      <td>5026</td>\n",
       "      <td>10</td>\n",
       "      <td>2012</td>\n",
       "      <td>1</td>\n",
       "      <td>12</td>\n",
       "    </tr>\n",
       "    <tr>\n",
       "      <th>4</th>\n",
       "      <td>None</td>\n",
       "      <td>291.14</td>\n",
       "      <td>0.0</td>\n",
       "      <td>0.0</td>\n",
       "      <td>75</td>\n",
       "      <td>Clouds</td>\n",
       "      <td>broken clouds</td>\n",
       "      <td>2012-10-02 13:00:00</td>\n",
       "      <td>4918</td>\n",
       "      <td>10</td>\n",
       "      <td>2012</td>\n",
       "      <td>1</td>\n",
       "      <td>13</td>\n",
       "    </tr>\n",
       "  </tbody>\n",
       "</table>\n",
       "</div>"
      ],
      "text/plain": [
       "  holiday    temp  rain_1h  snow_1h  clouds_all weather_main  \\\n",
       "0    None  288.28      0.0      0.0          40       Clouds   \n",
       "1    None  289.36      0.0      0.0          75       Clouds   \n",
       "2    None  289.58      0.0      0.0          90       Clouds   \n",
       "3    None  290.13      0.0      0.0          90       Clouds   \n",
       "4    None  291.14      0.0      0.0          75       Clouds   \n",
       "\n",
       "  weather_description           date_time  traffic_volume  month  year  \\\n",
       "0    scattered clouds 2012-10-02 09:00:00            5545     10  2012   \n",
       "1       broken clouds 2012-10-02 10:00:00            4516     10  2012   \n",
       "2     overcast clouds 2012-10-02 11:00:00            4767     10  2012   \n",
       "3     overcast clouds 2012-10-02 12:00:00            5026     10  2012   \n",
       "4       broken clouds 2012-10-02 13:00:00            4918     10  2012   \n",
       "\n",
       "   day_of_week  hour  \n",
       "0            1     9  \n",
       "1            1    10  \n",
       "2            1    11  \n",
       "3            1    12  \n",
       "4            1    13  "
      ]
     },
     "execution_count": 18,
     "metadata": {},
     "output_type": "execute_result"
    }
   ],
   "source": [
    "day_traffic.head()"
   ]
  },
  {
   "cell_type": "markdown",
   "id": "140f29fb-cc26-478d-b977-6299feaa3efe",
   "metadata": {},
   "source": [
    "Looking at basic correlation for numerical values it would appear that `temp` has the strongest correlation to `traffic_volume`."
   ]
  },
  {
   "cell_type": "code",
   "execution_count": 19,
   "id": "254ebe80-15bc-43a7-a64d-0a3857433827",
   "metadata": {},
   "outputs": [
    {
     "data": {
      "text/html": [
       "<div>\n",
       "<style scoped>\n",
       "    .dataframe tbody tr th:only-of-type {\n",
       "        vertical-align: middle;\n",
       "    }\n",
       "\n",
       "    .dataframe tbody tr th {\n",
       "        vertical-align: top;\n",
       "    }\n",
       "\n",
       "    .dataframe thead th {\n",
       "        text-align: right;\n",
       "    }\n",
       "</style>\n",
       "<table border=\"1\" class=\"dataframe\">\n",
       "  <thead>\n",
       "    <tr style=\"text-align: right;\">\n",
       "      <th></th>\n",
       "      <th>temp</th>\n",
       "      <th>rain_1h</th>\n",
       "      <th>snow_1h</th>\n",
       "      <th>clouds_all</th>\n",
       "      <th>traffic_volume</th>\n",
       "      <th>month</th>\n",
       "      <th>year</th>\n",
       "      <th>day_of_week</th>\n",
       "      <th>hour</th>\n",
       "    </tr>\n",
       "  </thead>\n",
       "  <tbody>\n",
       "    <tr>\n",
       "      <th>temp</th>\n",
       "      <td>1.000000</td>\n",
       "      <td>0.010815</td>\n",
       "      <td>-0.019286</td>\n",
       "      <td>-0.135519</td>\n",
       "      <td>0.128317</td>\n",
       "      <td>0.222072</td>\n",
       "      <td>0.132855</td>\n",
       "      <td>0.000188</td>\n",
       "      <td>0.162691</td>\n",
       "    </tr>\n",
       "    <tr>\n",
       "      <th>rain_1h</th>\n",
       "      <td>0.010815</td>\n",
       "      <td>1.000000</td>\n",
       "      <td>-0.000091</td>\n",
       "      <td>0.004993</td>\n",
       "      <td>0.003697</td>\n",
       "      <td>0.001176</td>\n",
       "      <td>0.001290</td>\n",
       "      <td>-0.009683</td>\n",
       "      <td>0.008279</td>\n",
       "    </tr>\n",
       "    <tr>\n",
       "      <th>snow_1h</th>\n",
       "      <td>-0.019286</td>\n",
       "      <td>-0.000091</td>\n",
       "      <td>1.000000</td>\n",
       "      <td>0.027721</td>\n",
       "      <td>0.001265</td>\n",
       "      <td>0.026768</td>\n",
       "      <td>-0.004546</td>\n",
       "      <td>-0.008814</td>\n",
       "      <td>0.003923</td>\n",
       "    </tr>\n",
       "    <tr>\n",
       "      <th>clouds_all</th>\n",
       "      <td>-0.135519</td>\n",
       "      <td>0.004993</td>\n",
       "      <td>0.027721</td>\n",
       "      <td>1.000000</td>\n",
       "      <td>-0.032932</td>\n",
       "      <td>0.000595</td>\n",
       "      <td>-0.030387</td>\n",
       "      <td>-0.041980</td>\n",
       "      <td>0.023685</td>\n",
       "    </tr>\n",
       "    <tr>\n",
       "      <th>traffic_volume</th>\n",
       "      <td>0.128317</td>\n",
       "      <td>0.003697</td>\n",
       "      <td>0.001265</td>\n",
       "      <td>-0.032932</td>\n",
       "      <td>1.000000</td>\n",
       "      <td>-0.022337</td>\n",
       "      <td>-0.003557</td>\n",
       "      <td>-0.416453</td>\n",
       "      <td>0.172704</td>\n",
       "    </tr>\n",
       "    <tr>\n",
       "      <th>month</th>\n",
       "      <td>0.222072</td>\n",
       "      <td>0.001176</td>\n",
       "      <td>0.026768</td>\n",
       "      <td>0.000595</td>\n",
       "      <td>-0.022337</td>\n",
       "      <td>1.000000</td>\n",
       "      <td>-0.158583</td>\n",
       "      <td>0.013656</td>\n",
       "      <td>0.008145</td>\n",
       "    </tr>\n",
       "    <tr>\n",
       "      <th>year</th>\n",
       "      <td>0.132855</td>\n",
       "      <td>0.001290</td>\n",
       "      <td>-0.004546</td>\n",
       "      <td>-0.030387</td>\n",
       "      <td>-0.003557</td>\n",
       "      <td>-0.158583</td>\n",
       "      <td>1.000000</td>\n",
       "      <td>-0.012123</td>\n",
       "      <td>-0.003822</td>\n",
       "    </tr>\n",
       "    <tr>\n",
       "      <th>day_of_week</th>\n",
       "      <td>0.000188</td>\n",
       "      <td>-0.009683</td>\n",
       "      <td>-0.008814</td>\n",
       "      <td>-0.041980</td>\n",
       "      <td>-0.416453</td>\n",
       "      <td>0.013656</td>\n",
       "      <td>-0.012123</td>\n",
       "      <td>1.000000</td>\n",
       "      <td>-0.002767</td>\n",
       "    </tr>\n",
       "    <tr>\n",
       "      <th>hour</th>\n",
       "      <td>0.162691</td>\n",
       "      <td>0.008279</td>\n",
       "      <td>0.003923</td>\n",
       "      <td>0.023685</td>\n",
       "      <td>0.172704</td>\n",
       "      <td>0.008145</td>\n",
       "      <td>-0.003822</td>\n",
       "      <td>-0.002767</td>\n",
       "      <td>1.000000</td>\n",
       "    </tr>\n",
       "  </tbody>\n",
       "</table>\n",
       "</div>"
      ],
      "text/plain": [
       "                    temp   rain_1h   snow_1h  clouds_all  traffic_volume  \\\n",
       "temp            1.000000  0.010815 -0.019286   -0.135519        0.128317   \n",
       "rain_1h         0.010815  1.000000 -0.000091    0.004993        0.003697   \n",
       "snow_1h        -0.019286 -0.000091  1.000000    0.027721        0.001265   \n",
       "clouds_all     -0.135519  0.004993  0.027721    1.000000       -0.032932   \n",
       "traffic_volume  0.128317  0.003697  0.001265   -0.032932        1.000000   \n",
       "month           0.222072  0.001176  0.026768    0.000595       -0.022337   \n",
       "year            0.132855  0.001290 -0.004546   -0.030387       -0.003557   \n",
       "day_of_week     0.000188 -0.009683 -0.008814   -0.041980       -0.416453   \n",
       "hour            0.162691  0.008279  0.003923    0.023685        0.172704   \n",
       "\n",
       "                   month      year  day_of_week      hour  \n",
       "temp            0.222072  0.132855     0.000188  0.162691  \n",
       "rain_1h         0.001176  0.001290    -0.009683  0.008279  \n",
       "snow_1h         0.026768 -0.004546    -0.008814  0.003923  \n",
       "clouds_all      0.000595 -0.030387    -0.041980  0.023685  \n",
       "traffic_volume -0.022337 -0.003557    -0.416453  0.172704  \n",
       "month           1.000000 -0.158583     0.013656  0.008145  \n",
       "year           -0.158583  1.000000    -0.012123 -0.003822  \n",
       "day_of_week     0.013656 -0.012123     1.000000 -0.002767  \n",
       "hour            0.008145 -0.003822    -0.002767  1.000000  "
      ]
     },
     "execution_count": 19,
     "metadata": {},
     "output_type": "execute_result"
    }
   ],
   "source": [
    "day_traffic.corr()"
   ]
  },
  {
   "cell_type": "markdown",
   "id": "48b573f1-956c-4da8-8577-019af1cc5e8a",
   "metadata": {},
   "source": [
    "\n",
    "### Temperature\n"
   ]
  },
  {
   "cell_type": "code",
   "execution_count": 20,
   "id": "220a9160-8ab8-4a2a-a081-deae8d5109c8",
   "metadata": {},
   "outputs": [
    {
     "name": "stdout",
     "output_type": "stream",
     "text": [
      "0.12831656852303924\n"
     ]
    },
    {
     "data": {
      "image/png": "[encoded data removed]",
      "text/plain": [
       "<Figure size 432x288 with 1 Axes>"
      ]
     },
     "metadata": {
      "needs_background": "light"
     },
     "output_type": "display_data"
    }
   ],
   "source": [
    "print(day_traffic['traffic_volume'].corr(day_traffic['temp']))\n",
    "plt.scatter(day_traffic['traffic_volume'], day_traffic['temp'])\n",
    "plt.show()"
   ]
  },
  {
   "cell_type": "markdown",
   "id": "ecffd768-5b57-4d3e-a202-4b7b2efb6f9e",
   "metadata": {},
   "source": [
    "Since the temp is measured in kelvin we're going to remove the 0 values as those temperatures (-459.7°F) aren't possible on planet earth. Probably safe to assume the thermometer was busted for 10 days.  "
   ]
  },
  {
   "cell_type": "code",
   "execution_count": 21,
   "id": "13074ef3-c939-4d58-bf66-d1dc50c3185e",
   "metadata": {},
   "outputs": [
    {
     "data": {
      "text/html": [
       "<div>\n",
       "<style scoped>\n",
       "    .dataframe tbody tr th:only-of-type {\n",
       "        vertical-align: middle;\n",
       "    }\n",
       "\n",
       "    .dataframe tbody tr th {\n",
       "        vertical-align: top;\n",
       "    }\n",
       "\n",
       "    .dataframe thead th {\n",
       "        text-align: right;\n",
       "    }\n",
       "</style>\n",
       "<table border=\"1\" class=\"dataframe\">\n",
       "  <thead>\n",
       "    <tr style=\"text-align: right;\">\n",
       "      <th></th>\n",
       "      <th>holiday</th>\n",
       "      <th>temp</th>\n",
       "      <th>rain_1h</th>\n",
       "      <th>snow_1h</th>\n",
       "      <th>clouds_all</th>\n",
       "      <th>weather_main</th>\n",
       "      <th>weather_description</th>\n",
       "      <th>date_time</th>\n",
       "      <th>traffic_volume</th>\n",
       "      <th>month</th>\n",
       "      <th>year</th>\n",
       "      <th>day_of_week</th>\n",
       "      <th>hour</th>\n",
       "    </tr>\n",
       "  </thead>\n",
       "  <tbody>\n",
       "    <tr>\n",
       "      <th>11950</th>\n",
       "      <td>None</td>\n",
       "      <td>0.0</td>\n",
       "      <td>0.0</td>\n",
       "      <td>0.0</td>\n",
       "      <td>0</td>\n",
       "      <td>Clear</td>\n",
       "      <td>sky is clear</td>\n",
       "      <td>2014-02-02 07:00:00</td>\n",
       "      <td>962</td>\n",
       "      <td>2</td>\n",
       "      <td>2014</td>\n",
       "      <td>6</td>\n",
       "      <td>7</td>\n",
       "    </tr>\n",
       "    <tr>\n",
       "      <th>11951</th>\n",
       "      <td>None</td>\n",
       "      <td>0.0</td>\n",
       "      <td>0.0</td>\n",
       "      <td>0.0</td>\n",
       "      <td>0</td>\n",
       "      <td>Clear</td>\n",
       "      <td>sky is clear</td>\n",
       "      <td>2014-02-02 08:00:00</td>\n",
       "      <td>1670</td>\n",
       "      <td>2</td>\n",
       "      <td>2014</td>\n",
       "      <td>6</td>\n",
       "      <td>8</td>\n",
       "    </tr>\n",
       "  </tbody>\n",
       "</table>\n",
       "</div>"
      ],
      "text/plain": [
       "      holiday  temp  rain_1h  snow_1h  clouds_all weather_main  \\\n",
       "11950    None   0.0      0.0      0.0           0        Clear   \n",
       "11951    None   0.0      0.0      0.0           0        Clear   \n",
       "\n",
       "      weather_description           date_time  traffic_volume  month  year  \\\n",
       "11950        sky is clear 2014-02-02 07:00:00             962      2  2014   \n",
       "11951        sky is clear 2014-02-02 08:00:00            1670      2  2014   \n",
       "\n",
       "       day_of_week  hour  \n",
       "11950            6     7  \n",
       "11951            6     8  "
      ]
     },
     "execution_count": 21,
     "metadata": {},
     "output_type": "execute_result"
    }
   ],
   "source": [
    "# Temps less than 50 kelvin\n",
    "day_traffic[day_traffic['temp'] <= 50]"
   ]
  },
  {
   "cell_type": "code",
   "execution_count": 22,
   "id": "d572851e-a5de-4d39-a1cb-cf7dde51c8f2",
   "metadata": {},
   "outputs": [
    {
     "name": "stdout",
     "output_type": "stream",
     "text": [
      "0.12553631239662166\n"
     ]
    },
    {
     "data": {
      "image/png": "[encoded data removed]",
      "text/plain": [
       "<Figure size 432x288 with 1 Axes>"
      ]
     },
     "metadata": {
      "needs_background": "light"
     },
     "output_type": "display_data"
    }
   ],
   "source": [
    "day_traffic = day_traffic[day_traffic['temp'] >= 50]\n",
    "print(day_traffic['traffic_volume'].corr(day_traffic['temp']))\n",
    "plt.scatter(day_traffic['traffic_volume'], day_traffic['temp'])\n",
    "plt.show()"
   ]
  },
  {
   "cell_type": "markdown",
   "id": "53cf9fb3-bf8f-4a56-8880-b0a945113fed",
   "metadata": {},
   "source": [
    "I guess that's a positive correlation. It's not very strong though with a value of 0.125."
   ]
  },
  {
   "cell_type": "markdown",
   "id": "4130895f-f94a-47c2-977e-212e49890626",
   "metadata": {},
   "source": [
    "\n",
    "### Rain\n"
   ]
  },
  {
   "cell_type": "code",
   "execution_count": 23,
   "id": "6ffa96d0-9536-47e2-a4d0-ff213a5a6c25",
   "metadata": {},
   "outputs": [
    {
     "name": "stdout",
     "output_type": "stream",
     "text": [
      "0.003695797619181314\n"
     ]
    },
    {
     "data": {
      "image/png": "[encoded data removed]",
      "text/plain": [
       "<Figure size 432x288 with 1 Axes>"
      ]
     },
     "metadata": {
      "needs_background": "light"
     },
     "output_type": "display_data"
    }
   ],
   "source": [
    "print(day_traffic['traffic_volume'].corr(day_traffic['rain_1h']))\n",
    "plt.scatter(day_traffic['traffic_volume'], day_traffic['rain_1h'])\n",
    "plt.show()"
   ]
  },
  {
   "cell_type": "markdown",
   "id": "f375dddc-714b-452c-8c25-2fc70b0deb4b",
   "metadata": {},
   "source": [
    "Let's remove that outlier. I don't think we had one solitary hour with 10,000mm (32 feet) of rain.  "
   ]
  },
  {
   "cell_type": "code",
   "execution_count": 24,
   "id": "2645a839-8f5d-47f6-b28a-49b3f57f0f3b",
   "metadata": {},
   "outputs": [],
   "source": [
    "day_traffic = day_traffic[day_traffic['rain_1h'] <= 2000]"
   ]
  },
  {
   "cell_type": "code",
   "execution_count": 25,
   "id": "6cb04aff-8529-41f0-8d85-0603d64458ad",
   "metadata": {},
   "outputs": [
    {
     "name": "stdout",
     "output_type": "stream",
     "text": [
      "-0.04067621783263872\n"
     ]
    },
    {
     "data": {
      "image/png": "[encoded data removed]",
      "text/plain": [
       "<Figure size 432x288 with 1 Axes>"
      ]
     },
     "metadata": {
      "needs_background": "light"
     },
     "output_type": "display_data"
    }
   ],
   "source": [
    "print(day_traffic['traffic_volume'].corr(day_traffic['rain_1h']))\n",
    "plt.scatter(day_traffic['traffic_volume'], day_traffic['rain_1h'])\n",
    "plt.show()"
   ]
  },
  {
   "cell_type": "markdown",
   "id": "27be973f-47e1-4bfe-a967-3c9453a2470f",
   "metadata": {},
   "source": [
    "Again not a strong correlation. There appears to be some left skew, indicating heavier rain increases traffic but it's not particularly convincing."
   ]
  },
  {
   "cell_type": "markdown",
   "id": "3ce9ac32-79ea-44e5-9513-c217b1cc2842",
   "metadata": {},
   "source": [
    "\n",
    "### Snow\n"
   ]
  },
  {
   "cell_type": "code",
   "execution_count": 26,
   "id": "3ddcc68f-0741-4336-8e61-8461079ef08e",
   "metadata": {},
   "outputs": [
    {
     "name": "stdout",
     "output_type": "stream",
     "text": [
      "0.001259574527430498\n"
     ]
    },
    {
     "data": {
      "image/png": "[encoded data removed]",
      "text/plain": [
       "<Figure size 432x288 with 1 Axes>"
      ]
     },
     "metadata": {
      "needs_background": "light"
     },
     "output_type": "display_data"
    }
   ],
   "source": [
    "print(day_traffic['traffic_volume'].corr(day_traffic['snow_1h']))\n",
    "plt.scatter(day_traffic['traffic_volume'], day_traffic['snow_1h'])\n",
    "plt.show()"
   ]
  },
  {
   "cell_type": "markdown",
   "id": "eedf8290-7fe0-43a9-8954-136719c38aef",
   "metadata": {},
   "source": [
    "This is a very weak correlation as well. Seems odd as more snow should mean less traffic. Perhaps it has more to do with the infrequency of snow hours. Meaning most of the time there is no snow and thus it doesn't have a strong impact on the overall data set. Which is weird because it snows plenty in Minnesota."
   ]
  },
  {
   "cell_type": "markdown",
   "id": "31d3ade5-7831-4fe8-a74d-332900bff86d",
   "metadata": {},
   "source": [
    "\n",
    "### Clouds\n"
   ]
  },
  {
   "cell_type": "code",
   "execution_count": 27,
   "id": "cee3d12c-5ea0-4bd5-9031-4da468c74693",
   "metadata": {},
   "outputs": [
    {
     "name": "stdout",
     "output_type": "stream",
     "text": [
      "-0.0333114379512382\n"
     ]
    },
    {
     "data": {
      "image/png": "[encoded data removed]",
      "text/plain": [
       "<Figure size 432x288 with 1 Axes>"
      ]
     },
     "metadata": {
      "needs_background": "light"
     },
     "output_type": "display_data"
    }
   ],
   "source": [
    "print(day_traffic['traffic_volume'].corr(day_traffic['clouds_all']))\n",
    "plt.scatter(day_traffic['traffic_volume'], day_traffic['clouds_all'])\n",
    "plt.show()"
   ]
  },
  {
   "cell_type": "markdown",
   "id": "fffc6524-e5cd-4cb6-8476-6be1c7ee29d2",
   "metadata": {},
   "source": [
    "This tells me that clouds happen and traffic doesn't even care."
   ]
  },
  {
   "cell_type": "markdown",
   "id": "5e41294c-622c-4414-bf7a-e5e718b50b42",
   "metadata": {},
   "source": [
    "\n",
    "## Weather (Numerical) Summary \n",
    "\n",
    "It would appear that our strongest correaltion is between temperature and traffic volume. I don't find any of these categories compelling as an indicator of heavier traffic though."
   ]
  },
  {
   "cell_type": "markdown",
   "id": "a2fbd93b-8987-448a-81f4-5d1f4d234ac1",
   "metadata": {},
   "source": [
    "\n",
    "## Weather (Categorical) Exploration\n",
    "\n",
    "Next we'll look at the categorical weather classifications."
   ]
  },
  {
   "cell_type": "code",
   "execution_count": 28,
   "id": "0ab0ccfe-87e5-4fe2-a2d9-5ed98dc06287",
   "metadata": {},
   "outputs": [
    {
     "data": {
      "image/png": "[encoded data removed]",
      "text/plain": [
       "<Figure size 432x288 with 1 Axes>"
      ]
     },
     "metadata": {
      "needs_background": "light"
     },
     "output_type": "display_data"
    }
   ],
   "source": [
    "by_weather_main = day_traffic.groupby('weather_main').mean()\n",
    "by_weather_main['traffic_volume'].plot.barh()\n",
    "plt.show()"
   ]
  },
  {
   "cell_type": "markdown",
   "id": "603c48fe-4827-49a1-b6ed-b09aef4ae0e1",
   "metadata": {},
   "source": [
    "All the averages are between 4000 and 5000. There doesn't appear to be any particular outliers here."
   ]
  },
  {
   "cell_type": "code",
   "execution_count": 29,
   "id": "bbd6b6f5-59b8-47b1-a685-7af85bbe7170",
   "metadata": {},
   "outputs": [
    {
     "data": {
      "image/png": "[encoded data removed]",
      "text/plain": [
       "<Figure size 720x720 with 1 Axes>"
      ]
     },
     "metadata": {
      "needs_background": "light"
     },
     "output_type": "display_data"
    }
   ],
   "source": [
    "by_weather_description = day_traffic.groupby('weather_description').mean()\n",
    "by_weather_description['traffic_volume'].plot.barh(figsize=(10,10))\n",
    "plt.show()"
   ]
  },
  {
   "cell_type": "markdown",
   "id": "7e90ed06-21cf-4a92-a435-29f0b3acb7fe",
   "metadata": {},
   "source": [
    "Now we got something. \"Thunderstorm with drizzle\" cuts traffic volume in half. That's a pretty significant reduction. Oddly enough \"shower snow\" and \"light shower snow\" seems to have an increase in traffic volume."
   ]
  },
  {
   "cell_type": "markdown",
   "id": "d01e77c0-d43c-44c1-a3f1-feafc96ea864",
   "metadata": {},
   "source": [
    "\n",
    "## Weather (Categorical) Summary\n",
    "\n",
    "Although there appears to be some correaltion between snow showers and heavy traffic, I'm not entirely convinced that these are contributing to heavier traffic. I feel it is more likely a factor of season coupled with time of the day that creates the heaviest traffic flows."
   ]
  },
  {
   "cell_type": "markdown",
   "id": "a4ea18a0-f732-47ca-b13b-7c42abe895ba",
   "metadata": {},
   "source": [
    "\n",
    "## Conclusion\n",
    "\n",
    "Throughout this research we found  \n",
    "* There is heavier traffic in the warmer months (Spring to Fall)\n",
    "* There is a strong correlation between weekdays and heavier traffic. Especially during rush hours.\n",
    "* There are some indicators of heavier traffic during snow showers, odd as this may be.  \n",
    "* Additionally there is lighter traffic during thunderstorms."
   ]
  }
 ],
 "metadata": {
  "kernelspec": {
   "display_name": "Python 3 (ipykernel)",
   "language": "python",
   "name": "python3"
  },
  "language_info": {
   "codemirror_mode": {
    "name": "ipython",
    "version": 3
   },
   "file_extension": ".py",
   "mimetype": "text/x-python",
   "name": "python",
   "nbconvert_exporter": "python",
   "pygments_lexer": "ipython3",
   "version": "3.9.5"
  }
 },
 "nbformat": 4,
 "nbformat_minor": 5
}
